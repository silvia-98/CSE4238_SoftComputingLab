{
  "nbformat": 4,
  "nbformat_minor": 0,
  "metadata": {
    "colab": {
      "name": "170104142_exp_01.ipynb",
      "provenance": [],
      "collapsed_sections": []
    },
    "kernelspec": {
      "name": "python3",
      "display_name": "Python 3"
    },
    "language_info": {
      "name": "python"
    }
  },
  "cells": [
    {
      "cell_type": "code",
      "metadata": {
        "id": "V8ZcHtvV00En"
      },
      "source": [
        "import numpy as np\n",
        "import pandas as pd\n",
        "import torch\n",
        "import torch.nn as nn\n",
        "import torch.nn.functional as F\n",
        "import torch.optim as optim\n",
        "from torch.utils.data import Dataset\n",
        "from torch.utils.data.sampler import SubsetRandomSampler\n",
        "import matplotlib\n",
        "import matplotlib.pyplot as plt\n",
        "from PIL import Image\n",
        "from torchvision import datasets, transforms, models\n",
        "from torch.autograd import Variable\n",
        "from zipfile import ZipFile\n",
        "import os\n",
        "from os import path\n",
        "import shutil"
      ],
      "execution_count": 2,
      "outputs": []
    },
    {
      "cell_type": "code",
      "metadata": {
        "colab": {
          "base_uri": "https://localhost:8080/"
        },
        "id": "sDygDkFB2G_W",
        "outputId": "c3ef6a91-a0a9-41d0-8472-30c1845498dd"
      },
      "source": [
        "import os\n",
        "print(os.listdir((\"/content/drive/My Drive/\")))"
      ],
      "execution_count": 3,
      "outputs": [
        {
          "output_type": "stream",
          "name": "stdout",
          "text": [
            "['splnproc1703_mac.docm', 'Classroom', 'CSE3223_170104142_PartA_SectionC.pdf', 'CSE3213_170104142_PartA_SectionC.pdf', 'CSE3215_170104142_PartA_SectionC.pdf', '170104142 (5).pdf', 'CSE3213_170104142_PartA.pdf', 'CSE3213_170104142_partB.pdf', 'CSE3211_170104142_PartA .pdf', 'CSE3211_170104142_partB.pdf', 'HUM3207_170104142_partA.pdf', 'HUM3207_170104142_partB.pdf', 'CSE3223_170104142_partA.pdf', 'CSE3223_170104142_partB.pdf', 'CSE3215_170104142_partA.pdf', 'CSE3215_170104142_partB (1).pdf', 'CSE3215_170104142_partB.pdf', 'thesis', 'compiler lab return', '170104142_Assignment1 (1).pdf', '170104142_Assignment1.c', 'input1.c', 'DDS', 'C2_170104142 (1).pdf', '170104142 (4).pdf', 'C2_170104142.pdf', '170104142_on1 (1).c', '170104142_on1.c', 'MSD_proposal3.2.pptx', ' Introduction to IPv4 and Ipv6 Address.gslides', '170104142_quiz1.pdf', 'QUIZ - 01 SET - C_170104142.gdoc', '41', 'C2_170104142_assignment2.docx', '170104142_Assignment-2.pdf', '170104142_Assignment2.pdf', '170104142_Assignment2.c', 'input (2).txt', '170104142_ex1.c', '170104142.sql', '170104142_CSE4107_quiz1.pdf', '170104142 (3).pdf', '170104142_CSE4108_QUIZ1.pdf', '170104142_ai.pdf', 'QUIZ - 02 Set - B (1).gdoc', 'QUIZ - 02 Set - B.gdoc', 'QUIZ - 02 Set - A.gdoc', 'on2_170104142.c', 'on2_170104142.pdf', 'Convolutional-Neural-Networks-for-Diabetic-Retinopathy.pptx', 'Automated-detection-of-diabetic-retinopathy-using-SVM.pptm', 'DREAM_ Diabetic Retinopathy Analysis using Machine Learning.pptx', 'paper regarding DR OF BD.gdoc', 'Intermediate Regular.gdoc', 'Statictics about  Diabetic Retinopathy in Bangladesh.gdoc', '170104142 (1).rar', '170104142_Assignment3.pdf', '170104142 .c', 'input (1).txt', 'biyani2018.gdoc', 'Diabetic-Retinopathy-Detection-using-machine-learning-in-the.pptx', 'Untitled document.gdoc', 'Diabetic-Retinopathy (1).docx', 'PENDRIVE', 'M.Sc.Thesisproposalpresentation.gslides', 'Emotionally-Aware-Chatbot.pptx', 'Refferences.gdoc', '170104119.docx', 'AI SESSION 3', 'lab 3 compiler', 'Assignment 4', '170104142.c', 'input.txt', '170104142 (2).pdf', '170104142_Compiler_Quiz2.pdf', 'EYE STRUCTURE  DIFFERENCE  IN DIFFERENT ETHNICITY.gdoc', 'Code paper.gdoc', 'Initial Thesis Topic Selection:.gdoc', 'Thesis.gdoc', 'Online 02 Set - A (1).gdoc', 'Online 02 Set - A.gdoc', 'router2.txt', 'router2.gdoc', 'Preprocessing paper  links.gdoc', 'ON3_170104142.c', 'ON3_170104142 .pdf', 'ASSIGMENT 4 COMPILER ', '170104142_ml_quiz.pdf', 'CamScanner 03-14-2021 17.57.pdf', 'SVM     .gdoc', 'Company.gdoc', 'on4_170104142.c', 'ON4_170104142.pdf', '170104142_Assignment-3.pdf', '170104142.zip', '17.01.04.142 _BIODATA.docx', '170104142_quiz3_dbms.pdf', 'Paper Discussion .gdoc', 'Summarization of Diabetic Retinopathy Paper.gdoc', 'dataset', 'dataset1', 'Colab Notebooks', '170104142.rar', '170104142_Ai_quiz2.pdf', 'Compiler 5', '170104142 (1).pdf', '170104142_ex1.cpp', '170104142_ex2.cpp', '170104142_main.cpp', 'Session5_suppl.gdoc', 'Session5.gdoc', '2014_04_msw_a4_format.doc', '170104142_Assignment4.docx', 'Session 5.pptx', '170104142_Assignment4.pdf', 'Smartphone Funduscopy: .gdoc', 'Set 1.pdf', 'Set 1.gdoc', '170104142_ai_labfinal (1).pdf', '170104142_ai_labfinal.pdf', 'Final Online Assessment.gdoc', '170104142_FinalQuiz_QuesNo1 (1).c', '170104142_FinalQuiz_QuesNo2 (2).c', '170104142_FinalQuiz_QuesNo2 (1).c', '170104142_FinalQuiz_QuesNo1.c', '170104142_FinalQuiz_QuesNo2.c', 'FON_170104142.docx', 'FON_170104142.pdf', '1617212127749_Face Mask Detection using Convolutional Neural Network (CNN) to reduce the spread of Covid-19  (3).pdf', '1617212127749_Face Mask Detection using Convolutional Neural Network (CNN) to reduce the spread of Covid-19  (2).pdf', '1617212127749_Face Mask Detection using Convolutional Neural Network (CNN) to reduce the spread of Covid-19  (1).pdf', 'CA 3_Set B.gdoc', '170104142_3.pdf', 'fp_170104142.c', 'report_170104142.txt', 'COVID-19 Lung CT Scans', 'SET - A - 170104142_Lab Final Assessment.gdoc', '170104142_TermAssignment-1.pdf', 'extracted_features.csv', '1617212127749_Face Mask Detection using Convolutional Neural Network (CNN) to reduce the spread of Covid-19 .pdf', '1617212127749_Face Mask Detection using Convolutional Neural Network (CNN) to reduce the spread of Covid-19  (3).gdoc', 'guyi .gdoc', 'Conference-template-A4 (1).docx', '170104142_Assignment1.pdf', 'Diabetic Retinopathy Dataset Analysis.gdoc', 'Lisa_ mam _questions.gdoc', 'JRNC_Manuscript_template.doc', 'Paper for Glaucoma Detection:.gdoc', 'Summarization of Glaucoma Detection using Deep Learning .gdoc', 'GLAUCOMA  paper.docx', 'Average_Poolng.gdoc', 'glaucoma document.gdoc', 'glucoma_detection.docx', '1617212127749_Face Mask Detection using Convolutional Neural Network (CNN) to reduce the spread of Covid-19  (2).gdoc', 'Assignment1.xlsx', '170104142.pdf', '1617212127749_Face Mask Detection using Convolutional Neural Network (CNN) to reduce the spread of Covid-19  (1).gdoc', 'Skin cancer_papers.gdoc', 'Model_Descripiton.docx', 'Conclusion_Skin cancer.gdoc', 'setection and diagnosis of smart factory 4.0 using machine learning_ paper link.gdoc', 'Fault detection smart factory_State of the art.gdoc', 'Fault detection smart factory_Introduction.gdoc', 'Paper', 'Brain tumor_paperlink .gdoc', 'journal_links.gdoc', 'Brain tumor_State of the art.gdoc', 'Glaucoma_MostFinal.gdoc', 'Word-Template.docx', 'conference-template-A4.docx', 'Conference-template-A4.docx', '1617212127749_Face Mask Detection using Convolutional Neural Network (CNN) to reduce the spread of Covid-19 .gdoc', 'ICIT document.gdoc', 'COVID-19-Diagnosis-from-Chest-X-ray-Images-Using-Convolutional-Neural-NetworkCNN-and-InceptionV3 (2) (2).pdf', 'COVID-19-Diagnosis-from-Chest-X-ray-Images-Using-Convolutional-Neural-NetworkCNN-and-InceptionV3 (2) (1).pdf', 'COVID-19-Diagnosis-from-Chest-X-ray-Images-Using-Convolutional-Neural-NetworkCNN-and-InceptionV3 (2).pdf', 'COVID-19-Diagnosis-from-Chest-X-ray-Images-Using-Convolutional-Neural-NetworkCNN-and-InceptionV3 (2) (3).gdoc', 'COVID-19-Diagnosis-from-Chest-X-ray-Images-Using-Convolutional-Neural-NetworkCNN-and-InceptionV3 (2) (2).gdoc', 'Conference-template-A4 (1).doc', 'COVID-19-Diagnosis-from-Chest-X-ray-Images-Using-Convolutional-Neural-NetworkCNN-and-InceptionV3 (2) (1).gdoc', 'abstract_template.doc', 'Silvia Sanjana.docx', 'COVID-19-Diagnosis-from-Chest-X-ray-Images-Using-Convolutional-Neural-NetworkCNN-and-InceptionV3 (2).gdoc', 'ICIT-template-A4.docx', \"reviewers' answer.gdoc\", '170104142_CSE4107_PartA.pdf', '170104142_CSE4107_PartB.pdf', '170104142_CSE4125.pdf', '170104142_CSE4101.pdf', '170104142_CSE4129.pdf', 'Brain Tumor_Introduction .gdoc', 'CSE4107_170104142_PartA.pdf', 'CSE4107_170104142_PartB.pdf', 'CSE4125_170104142.pdf', 'My 4.1 exam', 'Compiler Theory Video Links.gdoc', 'CSE4129_170104142 (2).pdf', 'CSE4129_170104142 (1).pdf', 'CSE4129_170104142.pdf', 'Performance Analysis of Glaucoma Detection Using Deep Learning Models (1).pdf', 'Performance Analysis of Glaucoma Detection\\xa0Using Deep Learning Models_extended abstract (1).gdoc', 'Performance Analysis of Glaucoma Detection Using Deep Learning Models.gdoc', 'Performance Analysis of Glaucoma Detection\\xa0Using Deep Learning Models_most final.gdoc', 'Performance Analysis of Glaucoma Detection\\xa0Using Deep Learning Models_extended abstract.gdoc', 'CSE4101_170104142 (1).pdf', 'CSE4101_170104142.pdf', 'IPE4111_170104142_PartA.pdf', 'IPE4111_170104142_PartB.pdf', 'skin cancer paper_state of the art.gdoc', 'introduction_Skin cancer.gdoc', 'DDoSSQLi.docx', 'Thesis-report-on-diabetic-retinopathy.docx', 'ThesisPaperWriting_Sami.docx', 'CSE4100_Report.pdf', 'CSE4100_Report.gdoc', 'MobileNetV2 Architecture_Result section.gdoc', 'DR_InceptionResNetV2 Architecture_Result Analysis.gdoc', 'NASNetMobile_ Architecture_Result section.gdoc', 'DenseNet121 Architecture_Result.gdoc', 'Lecture1-Introduction-Jan18-2021.pptx', 'finalppt-170316081234.pdf', 'Diabetic-retinopathy-detection_Fahim.pptx', 'Modified1-Report.docx', 'Thesis_final report priyata.gdoc', 'A Comparative Study of Diabetic Retinopathy Detection using Machine Learning and Deep Learning architectures.pptx', 'ThesisPaperWriting_hridoy_Final.docx', 'CSE4108 Final VersionS (1).gdoc', 'CSE4108 Final VersionS.gdoc', 'Intro_triangle.gdoc', 'Emotionally-Aware-Chatbot-EDAIC.pptx', 'Minimalist Aesthetic Slideshow by Slidesgo.pptx', 'Abstract Focus _ by Slidesgo.pptx', 'Automated-Diabetic-Retinopathy-Detection-Using-Deep-Learning-Models.pptx', 'A Comparative Study of Diabetic Retinopathy Detection using Machine Learning and Deep Learning architectures_Final.gdoc', 'CSE4100_presentation-3.pptx', 'Untitled presentation.gslides', 'CSE_4_2_Folder', 'priyata1 (1).jpg', 'Untitled2.m', 'priyata1.jpg', 'c2_170104142.m', 'plagarism_Check.gdoc', 'splnproc1703_mac.docm.gdoc', 'Performance Analysis of Diabetic Retinopathy Detection Using Deep Learning Models_sharmeen mam.gslides', 'DR detection  Nusrat Sharmin mam_ abstract _introduction.gdoc', 'Performance Analysis of Glaucoma Detection Using Deep Learning Models_Final.gdoc', 'DR detection _State of the art_Journal document.gdoc', 'Diabetic retinopathy_Sharmin mam.docx', 'outperforming_state of the arts _DR.gdoc', 'Resort', 'Matrix_Factorization_Assignment.csv', 'loss_1900.csv', 'Assignment_nibir sir shadhin.gdoc', 'Assignment_Nibir sir.gdoc', '170104121_241_codes.ipynb', '170104118_226_codes.ipynb', 'Pattern Recognition Lab', 'Emotion-Detection-from-Text.docx', 'Outperforming Models_Covid-2.gdoc', 'COVID-2_papers.gslides', '170104142_softcomputing.pdf', 'Performance Analysis of Glaucoma Detection Using Deep Learning Models .docx', '170104142_CG_QUIZ1.pdf', '170104142_CSE4213_Quiz1.pdf', 'train-perceptron.txt', '170104142_C2_experiement2.docx', 'Covid-2.0.docx', 'Robindronath Ekhane Kawkhono Khete Aashenni S01 (1080p Hoichoi WEBRip HEVC x265 10bit AAC 2.0) ~ _[Kira]_', 'C2_170104142.rar', 'DR diagnosis using TL models.gdoc', 'assignment.gdoc', 'Experimental Results_DR_Sharmin Mam.gdoc', 'DR detection _abstract_ introduction_Journal.docx', 'sensors-21-03704-v3.pdf', '17.01.04.142.docx', 'Ref_journal.gdoc', 'Dataset A.zip', 'Train', 'assignment2_model.pkl']\n"
          ]
        }
      ]
    },
    {
      "cell_type": "code",
      "metadata": {
        "colab": {
          "base_uri": "https://localhost:8080/"
        },
        "id": "jzbj2qMqq1k4",
        "outputId": "dc41b53d-bb89-42f1-f6b9-d9995c7968c8"
      },
      "source": [
        "from google.colab import drive\n",
        "drive.mount('/content/drive')"
      ],
      "execution_count": 1,
      "outputs": [
        {
          "output_type": "stream",
          "name": "stdout",
          "text": [
            "Mounted at /content/drive\n"
          ]
        }
      ]
    },
    {
      "cell_type": "code",
      "metadata": {
        "id": "RpQQD0gc2MXt"
      },
      "source": [
        "path = \"/content/drive/My Drive/\"\n",
        "\n",
        "dataset_A = path + 'Dataset A.zip'\n",
        "with ZipFile(dataset_A, 'r') as zip:\n",
        "  zip.extractall()"
      ],
      "execution_count": 4,
      "outputs": []
    },
    {
      "cell_type": "code",
      "metadata": {
        "colab": {
          "base_uri": "https://localhost:8080/",
          "height": 221
        },
        "id": "L5W06rZf2li6",
        "outputId": "602fe589-d6e0-4dcc-ca60-6bdbd977317a"
      },
      "source": [
        "PATH = '/content/'\n",
        "data_labels = pd.read_csv(PATH + 'training-a.csv', usecols = ['filename', 'digit'])\n",
        "print(data_labels.shape)\n",
        "data_labels.head()"
      ],
      "execution_count": 5,
      "outputs": [
        {
          "output_type": "stream",
          "name": "stdout",
          "text": [
            "(19702, 2)\n"
          ]
        },
        {
          "output_type": "execute_result",
          "data": {
            "text/html": [
              "<div>\n",
              "<style scoped>\n",
              "    .dataframe tbody tr th:only-of-type {\n",
              "        vertical-align: middle;\n",
              "    }\n",
              "\n",
              "    .dataframe tbody tr th {\n",
              "        vertical-align: top;\n",
              "    }\n",
              "\n",
              "    .dataframe thead th {\n",
              "        text-align: right;\n",
              "    }\n",
              "</style>\n",
              "<table border=\"1\" class=\"dataframe\">\n",
              "  <thead>\n",
              "    <tr style=\"text-align: right;\">\n",
              "      <th></th>\n",
              "      <th>filename</th>\n",
              "      <th>digit</th>\n",
              "    </tr>\n",
              "  </thead>\n",
              "  <tbody>\n",
              "    <tr>\n",
              "      <th>0</th>\n",
              "      <td>a00000.png</td>\n",
              "      <td>5</td>\n",
              "    </tr>\n",
              "    <tr>\n",
              "      <th>1</th>\n",
              "      <td>a00001.png</td>\n",
              "      <td>3</td>\n",
              "    </tr>\n",
              "    <tr>\n",
              "      <th>2</th>\n",
              "      <td>a00002.png</td>\n",
              "      <td>1</td>\n",
              "    </tr>\n",
              "    <tr>\n",
              "      <th>3</th>\n",
              "      <td>a00003.png</td>\n",
              "      <td>7</td>\n",
              "    </tr>\n",
              "    <tr>\n",
              "      <th>4</th>\n",
              "      <td>a00004.png</td>\n",
              "      <td>0</td>\n",
              "    </tr>\n",
              "  </tbody>\n",
              "</table>\n",
              "</div>"
            ],
            "text/plain": [
              "     filename  digit\n",
              "0  a00000.png      5\n",
              "1  a00001.png      3\n",
              "2  a00002.png      1\n",
              "3  a00003.png      7\n",
              "4  a00004.png      0"
            ]
          },
          "metadata": {},
          "execution_count": 5
        }
      ]
    },
    {
      "cell_type": "code",
      "metadata": {
        "id": "DmOZPvMi2r7w"
      },
      "source": [
        "TRAIN_PATH = \"/content/drive/My Drive/Train\"\n",
        "os.mkdir(TRAIN_PATH)\n",
        "\n",
        "def processImages(folder_name):\n",
        "  src = \"/content/\" + folder_name + '/'\n",
        "  dir_folders = os.listdir(src)\n",
        "  for dir_name in dir_folders:\n",
        "    file_name = os.path.join(src, dir_name)\n",
        "    if os.path.isfile(file_name):\n",
        "      shutil.copy(file_name, TRAIN_PATH) \n",
        "\n",
        "processImages('training-a')"
      ],
      "execution_count": 9,
      "outputs": []
    },
    {
      "cell_type": "code",
      "metadata": {
        "id": "3nszJCYf6X1m"
      },
      "source": [
        "class Dataset(Dataset):\n",
        "    def __init__(self, df, root, transform=None):\n",
        "        self.data = df\n",
        "        self.root = root\n",
        "        self.transform = transform\n",
        "        \n",
        "    def __len__(self):\n",
        "        return len(self.data)\n",
        "    \n",
        "    def __getitem__(self, index):\n",
        "        item = self.data.iloc[index]\n",
        "        \n",
        "        path = self.root + \"/\" + item[0]\n",
        "        image = Image.open(path).convert('L')\n",
        "        label = item[1]\n",
        "        \n",
        "        if self.transform is not None:\n",
        "            image = self.transform(image)\n",
        "            \n",
        "        return image, label"
      ],
      "execution_count": 10,
      "outputs": []
    },
    {
      "cell_type": "code",
      "metadata": {
        "id": "xtGRsoD-6auR"
      },
      "source": [
        "mean = [0.5,]\n",
        "std = [0.5, ]\n",
        "\n",
        "train_transform = transforms.Compose([\n",
        "    transforms.Resize(28),\n",
        "    transforms.ToTensor(),\n",
        "    transforms.Normalize(mean, std)\n",
        "])\n",
        "\n",
        "test_transform = transforms.Compose([\n",
        "        transforms.Resize(28),\n",
        "        transforms.ToTensor(),\n",
        "        transforms.Normalize(mean, std)\n",
        "])\n",
        "\n",
        "train_data  = Dataset(data_labels, TRAIN_PATH, train_transform)\n",
        "test_data = Dataset(data_labels, TRAIN_PATH, test_transform)\n",
        "\n"
      ],
      "execution_count": 11,
      "outputs": []
    },
    {
      "cell_type": "code",
      "metadata": {
        "colab": {
          "base_uri": "https://localhost:8080/"
        },
        "id": "_20NHGq46eqb",
        "outputId": "2af74fd5-3a47-457c-dd93-2ebe23dde75a"
      },
      "source": [
        "batch_size = 20\n",
        "num_iters = 20000\n",
        "input_dim = 28*28 \n",
        "num_hidden = 6 \n",
        "output_dim = 10\n",
        "\n",
        "learning_rate = 0.01  \n",
        "\n",
        "num_epochs = num_iters / (len(train_data) / batch_size)\n",
        "num_epochs = int(num_epochs)\n",
        "print(num_epochs)\n",
        "\n",
        "device = torch.device(\"cuda:0\" if torch.cuda.is_available() else \"cpu\")"
      ],
      "execution_count": 12,
      "outputs": [
        {
          "output_type": "stream",
          "name": "stdout",
          "text": [
            "20\n"
          ]
        }
      ]
    },
    {
      "cell_type": "code",
      "metadata": {
        "colab": {
          "base_uri": "https://localhost:8080/"
        },
        "id": "X_jJwP7J6fxd",
        "outputId": "c2999d45-b867-43ee-c14f-9027825a3168"
      },
      "source": [
        "test_size = 0.2\n",
        "num_train = len(train_data)\n",
        "indices = list(range(num_train))\n",
        "np.random.shuffle(indices)\n",
        "split = int(np.floor(test_size * num_train))\n",
        "train_idx, test_idx = indices[split:], indices[:split]\n",
        "\n",
        "train_sampler = SubsetRandomSampler(train_idx)\n",
        "test_sampler = SubsetRandomSampler(test_idx)\n",
        "\n",
        "train_loader = torch.utils.data.DataLoader(\n",
        "    train_data, batch_size=batch_size,\n",
        "    sampler=train_sampler)\n",
        "\n",
        "test_loader = torch.utils.data.DataLoader(\n",
        "    test_data, batch_size=batch_size,\n",
        "    sampler=test_sampler)\n",
        "\n",
        "print(\"Train dataloader:{}\".format(len(train_loader)))\n",
        "print(\"Test dataloader:{}\".format(len(test_loader)))"
      ],
      "execution_count": 13,
      "outputs": [
        {
          "output_type": "stream",
          "name": "stdout",
          "text": [
            "Train dataloader:789\n",
            "Test dataloader:197\n"
          ]
        }
      ]
    },
    {
      "cell_type": "code",
      "metadata": {
        "id": "MNB7Sgou6iln"
      },
      "source": [
        "class DeepNeuralNetworkModel(nn.Module):\n",
        "    def __init__(self, input_size, num_classes, num_hidden):\n",
        "        super().__init__()\n",
        "       \n",
        "        self.linear_1 = nn.Linear(input_size, num_hidden)\n",
        "        self.relu_1 = nn.ReLU()\n",
        " \n",
        "        self.linear_2 = nn.Linear(num_hidden, num_hidden)\n",
        "        self.relu_2 = nn.ReLU()\n",
        " \n",
        "        self.linear_3 = nn.Linear(num_hidden, num_hidden)\n",
        "        self.relu_3 = nn.ReLU()\n",
        " \n",
        "        self.linear_4 = nn.Linear(num_hidden, num_hidden)\n",
        "        self.relu_4 = nn.ReLU()\n",
        " \n",
        "        self.linear_5= nn.Linear(num_hidden, num_hidden)\n",
        "        self.relu_5= nn.ReLU()\n",
        " \n",
        "        self.linear_6 = nn.Linear(num_hidden, num_hidden)\n",
        "        self.relu_6 = nn.ReLU()\n",
        " \n",
        "        self.linear_out = nn.Linear(num_hidden, num_classes)\n",
        " \n",
        "    def forward(self, x):\n",
        "        out  = self.linear_1(x)\n",
        "        out = self.relu_1(out)\n",
        "        \n",
        "        out  = self.linear_2(out)\n",
        "        out = self.relu_2(out)\n",
        " \n",
        "        out  = self.linear_3(out)\n",
        "        out = self.relu_3(out)\n",
        " \n",
        "        out  = self.linear_4(out)\n",
        "        out = self.relu_4(out)\n",
        " \n",
        "        out  = self.linear_5(out)\n",
        "        out = self.relu_5(out)\n",
        " \n",
        "        out  = self.linear_6(out)\n",
        "        out = self.relu_6(out)\n",
        "        \n",
        "        probas  = self.linear_out(out)\n",
        "        return probas\n"
      ],
      "execution_count": 14,
      "outputs": []
    },
    {
      "cell_type": "code",
      "metadata": {
        "colab": {
          "base_uri": "https://localhost:8080/"
        },
        "id": "P1GDq6TX6lMv",
        "outputId": "590ce6b1-8738-4b0d-a6e3-3a3a284dc82c"
      },
      "source": [
        "model = DeepNeuralNetworkModel(input_size = input_dim, num_classes = output_dim, num_hidden = num_hidden)\n",
        "\n",
        "model.to(device)"
      ],
      "execution_count": 15,
      "outputs": [
        {
          "output_type": "execute_result",
          "data": {
            "text/plain": [
              "DeepNeuralNetworkModel(\n",
              "  (linear_1): Linear(in_features=784, out_features=6, bias=True)\n",
              "  (relu_1): ReLU()\n",
              "  (linear_2): Linear(in_features=6, out_features=6, bias=True)\n",
              "  (relu_2): ReLU()\n",
              "  (linear_3): Linear(in_features=6, out_features=6, bias=True)\n",
              "  (relu_3): ReLU()\n",
              "  (linear_4): Linear(in_features=6, out_features=6, bias=True)\n",
              "  (relu_4): ReLU()\n",
              "  (linear_5): Linear(in_features=6, out_features=6, bias=True)\n",
              "  (relu_5): ReLU()\n",
              "  (linear_6): Linear(in_features=6, out_features=6, bias=True)\n",
              "  (relu_6): ReLU()\n",
              "  (linear_out): Linear(in_features=6, out_features=10, bias=True)\n",
              ")"
            ]
          },
          "metadata": {},
          "execution_count": 15
        }
      ]
    },
    {
      "cell_type": "code",
      "metadata": {
        "id": "If50o4ft6nSl"
      },
      "source": [
        "criterion = nn.CrossEntropyLoss()\n",
        "optimizer = torch.optim.Adamax(model.parameters(), lr=learning_rate)"
      ],
      "execution_count": 16,
      "outputs": []
    },
    {
      "cell_type": "code",
      "metadata": {
        "colab": {
          "base_uri": "https://localhost:8080/"
        },
        "id": "ZzQuCqAM6pld",
        "outputId": "2d6bdfaf-042f-46da-e9b0-b780195c87c6"
      },
      "source": [
        "iteration_loss = []\n",
        "iter = 0\n",
        "for epoch in range(num_epochs):\n",
        "    print('Epoch: ', epoch + 1)\n",
        "    for i, (images, labels) in enumerate(train_loader):\n",
        "\n",
        "        images = images.view(-1, 28*28).to(device)\n",
        "        labels = labels.to(device)\n",
        "\n",
        "        optimizer.zero_grad()\n",
        "\n",
        "        outputs = model(images) \n",
        "\n",
        "        loss = criterion(outputs, labels)\n",
        "\n",
        "        loss.backward()\n",
        "\n",
        "        optimizer.step()\n",
        "\n",
        "        iter += 1\n",
        "\n",
        "        if iter % 500 == 0:        \n",
        "            correct = 0\n",
        "            total = 0\n",
        "            for images, labels in test_loader:\n",
        "               \n",
        "                images = images.view(-1, 28*28).to(device)\n",
        "\n",
        "                outputs = model(images)\n",
        "\n",
        "                _, predicted = torch.max(outputs, 1)\n",
        "\n",
        "                total += labels.size(0)\n",
        "\n",
        "                if torch.cuda.is_available():\n",
        "                    correct += (predicted.cpu() == labels.cpu()).sum() \n",
        "                else:\n",
        "                    correct += (predicted == labels).sum()\n",
        "\n",
        "            accuracy = 100 * correct.item() / total\n",
        "\n",
        "            iteration_loss.append(loss.item())\n",
        "            print('Iteration: {}. Loss: {}. Accuracy: {}'.format(iter, loss.item(), accuracy))"
      ],
      "execution_count": 17,
      "outputs": [
        {
          "output_type": "stream",
          "name": "stdout",
          "text": [
            "Epoch:  1\n",
            "Iteration: 500. Loss: 2.2783889770507812. Accuracy: 12.766497461928934\n",
            "Epoch:  2\n",
            "Iteration: 1000. Loss: 1.8843119144439697. Accuracy: 20.736040609137056\n",
            "Iteration: 1500. Loss: 1.9845596551895142. Accuracy: 27.131979695431472\n",
            "Epoch:  3\n",
            "Iteration: 2000. Loss: 1.6963443756103516. Accuracy: 23.781725888324875\n",
            "Epoch:  4\n",
            "Iteration: 2500. Loss: 1.7430469989776611. Accuracy: 21.700507614213198\n",
            "Iteration: 3000. Loss: 1.9905742406845093. Accuracy: 31.472081218274113\n",
            "Epoch:  5\n",
            "Iteration: 3500. Loss: 1.6837965250015259. Accuracy: 29.314720812182742\n",
            "Epoch:  6\n",
            "Iteration: 4000. Loss: 1.7424862384796143. Accuracy: 27.436548223350254\n",
            "Iteration: 4500. Loss: 1.6732648611068726. Accuracy: 26.548223350253807\n",
            "Epoch:  7\n",
            "Iteration: 5000. Loss: 1.7120311260223389. Accuracy: 25.0\n",
            "Iteration: 5500. Loss: 1.8996679782867432. Accuracy: 29.13705583756345\n",
            "Epoch:  8\n",
            "Iteration: 6000. Loss: 1.68674635887146. Accuracy: 30.634517766497463\n",
            "Epoch:  9\n",
            "Iteration: 6500. Loss: 1.4879252910614014. Accuracy: 22.96954314720812\n",
            "Iteration: 7000. Loss: 1.8196386098861694. Accuracy: 28.908629441624367\n",
            "Epoch:  10\n",
            "Iteration: 7500. Loss: 1.677420973777771. Accuracy: 31.14213197969543\n",
            "Epoch:  11\n",
            "Iteration: 8000. Loss: 1.5010112524032593. Accuracy: 31.598984771573605\n",
            "Iteration: 8500. Loss: 1.8105741739273071. Accuracy: 22.715736040609137\n",
            "Epoch:  12\n",
            "Iteration: 9000. Loss: 1.5952228307724. Accuracy: 21.116751269035532\n",
            "Epoch:  13\n",
            "Iteration: 9500. Loss: 1.4206303358078003. Accuracy: 30.253807106598984\n",
            "Iteration: 10000. Loss: 1.779039740562439. Accuracy: 31.573604060913706\n",
            "Epoch:  14\n",
            "Iteration: 10500. Loss: 1.9145634174346924. Accuracy: 26.97969543147208\n",
            "Iteration: 11000. Loss: 1.6691725254058838. Accuracy: 26.19289340101523\n",
            "Epoch:  15\n",
            "Iteration: 11500. Loss: 1.7364673614501953. Accuracy: 31.269035532994923\n",
            "Epoch:  16\n",
            "Iteration: 12000. Loss: 1.9176603555679321. Accuracy: 17.563451776649746\n",
            "Iteration: 12500. Loss: 1.8001724481582642. Accuracy: 32.46192893401015\n",
            "Epoch:  17\n",
            "Iteration: 13000. Loss: 1.3197499513626099. Accuracy: 33.223350253807105\n",
            "Epoch:  18\n",
            "Iteration: 13500. Loss: 1.9119819402694702. Accuracy: 33.60406091370558\n",
            "Iteration: 14000. Loss: 1.7179243564605713. Accuracy: 31.34517766497462\n",
            "Epoch:  19\n",
            "Iteration: 14500. Loss: 1.7395398616790771. Accuracy: 32.055837563451774\n",
            "Epoch:  20\n",
            "Iteration: 15000. Loss: 1.7587391138076782. Accuracy: 30.253807106598984\n",
            "Iteration: 15500. Loss: 1.4321393966674805. Accuracy: 31.446700507614214\n"
          ]
        }
      ]
    },
    {
      "cell_type": "code",
      "metadata": {
        "id": "gPzYAq9LOgVY"
      },
      "source": [
        "#settings 1\n",
        "save_model = True\n",
        "\n",
        "if save_model is True:\n",
        "    # Saves only parameters\n",
        "    # wights & biases\n",
        "    torch.save(model.state_dict(), path + 'assignment2_model.pkl') "
      ],
      "execution_count": 18,
      "outputs": []
    },
    {
      "cell_type": "code",
      "metadata": {
        "colab": {
          "base_uri": "https://localhost:8080/",
          "height": 316
        },
        "id": "P0q2enBNQ8xs",
        "outputId": "318dc52b-74bb-4f1d-e033-fe3acb1a4df3"
      },
      "source": [
        "import matplotlib\n",
        "import matplotlib.pyplot as plt\n",
        "\n",
        "print (iteration_loss)\n",
        "plt.plot(iteration_loss)\n",
        "plt.ylabel('Cross Entropy Loss')\n",
        "plt.xlabel('Iteration (in every 500)')\n",
        "plt.show()"
      ],
      "execution_count": 19,
      "outputs": [
        {
          "output_type": "stream",
          "name": "stdout",
          "text": [
            "[2.2783889770507812, 1.8843119144439697, 1.9845596551895142, 1.6963443756103516, 1.7430469989776611, 1.9905742406845093, 1.6837965250015259, 1.7424862384796143, 1.6732648611068726, 1.7120311260223389, 1.8996679782867432, 1.68674635887146, 1.4879252910614014, 1.8196386098861694, 1.677420973777771, 1.5010112524032593, 1.8105741739273071, 1.5952228307724, 1.4206303358078003, 1.779039740562439, 1.9145634174346924, 1.6691725254058838, 1.7364673614501953, 1.9176603555679321, 1.8001724481582642, 1.3197499513626099, 1.9119819402694702, 1.7179243564605713, 1.7395398616790771, 1.7587391138076782, 1.4321393966674805]\n"
          ]
        },
        {
          "output_type": "display_data",
          "data": {
            "image/png": "[encoded data removed]",
            "text/plain": [
              "<Figure size 432x288 with 1 Axes>"
            ]
          },
          "metadata": {
            "needs_background": "light"
          }
        }
      ]
    },
    {
      "cell_type": "code",
      "metadata": {
        "colab": {
          "base_uri": "https://localhost:8080/"
        },
        "id": "o_svQi3yQ_Dz",
        "outputId": "eba2dca3-c172-44f1-fe3b-4359d019deda"
      },
      "source": [
        "print(\"Final Model Loss: \",iteration_loss[-1])\n",
        "print (\"Final Model Accuracy: \",accuracy)"
      ],
      "execution_count": 20,
      "outputs": [
        {
          "output_type": "stream",
          "name": "stdout",
          "text": [
            "Final Model Loss:  1.4321393966674805\n",
            "Final Model Accuracy:  31.446700507614214\n"
          ]
        }
      ]
    },
    {
      "cell_type": "code",
      "metadata": {
        "colab": {
          "base_uri": "https://localhost:8080/",
          "height": 92
        },
        "id": "KSBABgz9RBi3",
        "outputId": "187fa0eb-8fe5-42fd-9bd5-08f90fa5d5e3"
      },
      "source": [
        "import matplotlib\n",
        "import matplotlib.pyplot as plt\n",
        "for images, labels in test_loader:\n",
        "    break\n",
        "    \n",
        "fig, ax = plt.subplots(1, 7)\n",
        "for i in range(7):\n",
        "    ax[i].imshow(images[i].view(28,28), cmap=matplotlib.cm.binary)\n",
        "\n",
        "plt.show()"
      ],
      "execution_count": 21,
      "outputs": [
        {
          "output_type": "display_data",
          "data": {
            "image/png": "[encoded data removed]",
            "text/plain": [
              "<Figure size 432x288 with 7 Axes>"
            ]
          },
          "metadata": {
            "needs_background": "light"
          }
        }
      ]
    }
  ]
}