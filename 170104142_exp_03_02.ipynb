{
  "nbformat": 4,
  "nbformat_minor": 0,
  "metadata": {
    "colab": {
      "name": "170104142_exp_03_02.ipynb",
      "provenance": [],
      "collapsed_sections": []
    },
    "kernelspec": {
      "name": "python3",
      "display_name": "Python 3"
    },
    "language_info": {
      "name": "python"
    },
    "accelerator": "GPU"
  },
  "cells": [
    {
      "cell_type": "code",
      "metadata": {
        "id": "HT9i40sMM5lt"
      },
      "source": [
        "import os\n",
        "import pandas as pd\n",
        "import torch\n",
        "from torch.utils.data import Dataset, DataLoader  \n",
        "from skimage import io"
      ],
      "execution_count": null,
      "outputs": []
    },
    {
      "cell_type": "code",
      "metadata": {
        "id": "EvahDt2be8xz"
      },
      "source": [
        "import torch\n",
        "import torch.nn as nn\n",
        "import torchvision.transforms as transforms"
      ],
      "execution_count": null,
      "outputs": []
    },
    {
      "cell_type": "code",
      "metadata": {
        "colab": {
          "base_uri": "https://localhost:8080/"
        },
        "id": "cjT53blqLYw3",
        "outputId": "0b2e1b66-be86-43e1-ac58-7136a708d024"
      },
      "source": [
        "from google.colab import drive\n",
        "drive.mount('/content/drive')"
      ],
      "execution_count": null,
      "outputs": [
        {
          "output_type": "stream",
          "name": "stdout",
          "text": [
            "Mounted at /content/drive\n"
          ]
        }
      ]
    },
    {
      "cell_type": "code",
      "metadata": {
        "colab": {
          "base_uri": "https://localhost:8080/"
        },
        "id": "my-Lx-VJI5zT",
        "outputId": "797cc381-08ab-4262-bc25-1d3929545afb"
      },
      "source": [
        "!unzip \"/content/drive/MyDrive/Dataset_2.zip\""
      ],
      "execution_count": null,
      "outputs": [
        {
          "output_type": "stream",
          "name": "stdout",
          "text": [
            "Archive:  /content/drive/MyDrive/Dataset_2.zip\n",
            "   creating: Dataset_2/\n",
            "  inflating: Dataset_2/t10k-images-idx3-ubyte  \n",
            "  inflating: Dataset_2/t10k-labels-idx1-ubyte  \n",
            "  inflating: Dataset_2/train-images-idx3-ubyte  \n",
            "  inflating: Dataset_2/train-labels-idx1-ubyte  \n",
            "  inflating: Dataset_2/verification_test.csv  \n",
            "  inflating: Dataset_2/verification_train.csv  \n"
          ]
        }
      ]
    },
    {
      "cell_type": "code",
      "metadata": {
        "id": "WpoWmdLjJLML"
      },
      "source": [
        "train_csv  = pd.read_csv('/content/Dataset_2/verification_train.csv')\n",
        "test_csv = pd.read_csv('/content/Dataset_2/verification_test.csv')"
      ],
      "execution_count": null,
      "outputs": []
    },
    {
      "cell_type": "code",
      "metadata": {
        "id": "rtmU_CAKJlVN"
      },
      "source": [
        "import numpy as np\n",
        "class second_Dataset(Dataset):\n",
        "    \n",
        "    def __init__(self, data, transform = None):\n",
        "        \"\"\"Method to initilaize variables.\"\"\" \n",
        "        self.data_MNIST = list(data.values)\n",
        "        self.transform = transform\n",
        "        \n",
        "        label = []\n",
        "        image = []\n",
        "        \n",
        "        for i in self.data_MNIST:\n",
        "             # first column is of labels.\n",
        "            label.append(i[0])\n",
        "            image.append(i[1:])\n",
        "        self.labels = np.asarray(label)\n",
        "        self.images = np.asarray(image).reshape(-1, 28, 28, 1).astype('float32')\n",
        "\n",
        "    def __getitem__(self, index):\n",
        "        label = self.labels[index]\n",
        "        image = self.images[index]\n",
        "        \n",
        "        if self.transform is not None:\n",
        "            image = self.transform(image)\n",
        "\n",
        "        return image, label\n",
        "\n",
        "    def __len__(self):\n",
        "        return len(self.images)"
      ],
      "execution_count": null,
      "outputs": []
    },
    {
      "cell_type": "code",
      "metadata": {
        "id": "a1jEAEZCKQIU"
      },
      "source": [
        "train_set = second_Dataset(train_csv, transform=transforms.Compose([transforms.ToTensor()]))\n",
        "test_set = second_Dataset(test_csv, transform=transforms.Compose([transforms.ToTensor()]))\n",
        "\n",
        "train_loader = DataLoader(train_set, batch_size=100)\n",
        "test_loader = DataLoader(train_set, batch_size=100)"
      ],
      "execution_count": null,
      "outputs": []
    },
    {
      "cell_type": "code",
      "metadata": {
        "colab": {
          "base_uri": "https://localhost:8080/"
        },
        "id": "Za7FBndHL3HN",
        "outputId": "a0a64e88-d421-4177-add9-d9cb3ce53472"
      },
      "source": [
        "print(len(train_set))\n",
        "print(len(test_set))"
      ],
      "execution_count": null,
      "outputs": [
        {
          "output_type": "stream",
          "name": "stdout",
          "text": [
            "60000\n",
            "10000\n"
          ]
        }
      ]
    },
    {
      "cell_type": "code",
      "metadata": {
        "colab": {
          "base_uri": "https://localhost:8080/"
        },
        "id": "tdJtSw82MSSB",
        "outputId": "ae4ae78f-e94d-4d52-d2d7-e63d7124fc53"
      },
      "source": [
        "# Hyperparameters\n",
        "\n",
        "batch_size = 350\n",
        "num_iters = 20000\n",
        "input_dim = 28*28 # num_features = 784\n",
        "num_hidden = 300 # num of hidden nodes\n",
        "output_dim = 10\n",
        "\n",
        "learning_rate = 0.02  # More power so we can learn faster! previously it was 0.001\n",
        "\n",
        "\n",
        "device = torch.device(\"cuda:0\" if torch.cuda.is_available() else \"cpu\")\n",
        "\n",
        "\n",
        "\n",
        "\n",
        "'''\n",
        "MAKING DATASET ITERABLE\n",
        "'''\n",
        "num_epochs = num_iters / (len(train_set) / batch_size)\n",
        "num_epochs = int(num_epochs)\n",
        "\n",
        "train_loader = torch.utils.data.DataLoader(dataset=train_set, \n",
        "                                           batch_size=batch_size, \n",
        "                                           shuffle=True)   # It's better to shuffle the whole training dataset! \n",
        "\n",
        "test_loader = torch.utils.data.DataLoader(dataset=test_set, \n",
        "                                          batch_size=batch_size, \n",
        "                                          shuffle=False)\n",
        "\n",
        "\n",
        "\n",
        "\n",
        "\n",
        "class DeepNeuralNetworkModel(nn.Module):\n",
        "    def __init__(self, input_size, num_classes, num_hidden):\n",
        "        super().__init__()\n",
        "       \n",
        "        self.linear_1 = nn.Linear(input_size, num_hidden)\n",
        "        self.relu_1 = nn.ReLU()\n",
        " \n",
        "        self.linear_2 = nn.Linear(num_hidden, num_hidden)\n",
        "        self.relu_2 = nn.ReLU()\n",
        " \n",
        "        self.linear_3 = nn.Linear(num_hidden, num_hidden)\n",
        "        self.relu_3 = nn.Softmax(dim=0)\n",
        " \n",
        "        self.linear_4 = nn.Linear(num_hidden, num_hidden)\n",
        "        self.relu_4 = nn.ReLU()\n",
        " \n",
        "        self.linear_5= nn.Linear(num_hidden, num_hidden)\n",
        "        self.relu_5= nn.ReLU()\n",
        " \n",
        "        self.linear_6 = nn.Linear(num_hidden, num_hidden)\n",
        "        self.relu_6 = nn.ReLU()\n",
        " \n",
        "        self.linear_out = nn.Linear(num_hidden, num_classes)\n",
        " \n",
        "    def forward(self, x):\n",
        "        out  = self.linear_1(x)\n",
        "        out = self.relu_1(out)\n",
        "        \n",
        "        out  = self.linear_2(out)\n",
        "        out = self.relu_2(out)\n",
        " \n",
        "        out  = self.linear_3(out)\n",
        "        out = self.relu_3(out)\n",
        " \n",
        "        out  = self.linear_4(out)\n",
        "        out = self.relu_4(out)\n",
        " \n",
        "        out  = self.linear_5(out)\n",
        "        out = self.relu_5(out)\n",
        " \n",
        "        out  = self.linear_6(out)\n",
        "        out = self.relu_6(out)\n",
        "        \n",
        "        probas  = self.linear_out(out)\n",
        "        return probas\n",
        "\n",
        "# INSTANTIATE MODEL CLASS\n",
        "\n",
        "model = DeepNeuralNetworkModel(input_size = input_dim,\n",
        "                               num_classes = output_dim,\n",
        "                               num_hidden = num_hidden)\n",
        "# To enable GPU\n",
        "model.to(device)\n",
        "\n",
        "# INSTANTIATE LOSS & OPTIMIZER CLASS\n",
        "\n",
        "criterion = nn.CrossEntropyLoss()\n",
        "optimizer = torch.optim.SGD(model.parameters(), lr=learning_rate)\n",
        "iteration_loss= []\n",
        "iter = 0\n",
        "for epoch in range(num_epochs):\n",
        "    for i, (images, labels) in enumerate(train_loader):\n",
        "\n",
        "        images = images.view(-1, 28*28).to(device)\n",
        "        labels = labels.to(device)\n",
        "\n",
        "        # Clear gradients w.r.t. parameters\n",
        "        optimizer.zero_grad()\n",
        "\n",
        "        # Forward pass to get output/logits\n",
        "        outputs = model(images) \n",
        "\n",
        "        # Calculate Loss: softmax --> cross entropy loss\n",
        "        loss = criterion(outputs, labels)\n",
        "\n",
        "        # Getting gradients w.r.t. parameters\n",
        "        loss.backward()\n",
        "\n",
        "        # Updating parameters\n",
        "        optimizer.step()\n",
        "\n",
        "        iter += 1\n",
        "\n",
        "        if iter % 500 == 0:\n",
        "            # Calculate Accuracy         \n",
        "            correct = 0\n",
        "            total = 0\n",
        "            # Iterate through test dataset\n",
        "            for images, labels in test_loader:\n",
        "               \n",
        "                images = images.view(-1, 28*28).to(device)\n",
        "\n",
        "                # Forward pass only to get logits/output\n",
        "                outputs = model(images)\n",
        "\n",
        "                # Get predictions from the maximum value\n",
        "                _, predicted = torch.max(outputs, 1)\n",
        "\n",
        "                # Total number of labels\n",
        "                total += labels.size(0)\n",
        "\n",
        "\n",
        "                # Total correct predictions\n",
        "                if torch.cuda.is_available():\n",
        "                    correct += (predicted.cpu() == labels.cpu()).sum() \n",
        "                else:\n",
        "                    correct += (predicted == labels).sum()\n",
        "\n",
        "            accuracy = 100 * correct.item() / total\n",
        "\n",
        "            # Print Loss\n",
        "            iteration_loss.append(loss.item())\n",
        "            print('Iteration: {}. Loss: {}. Accuracy: {}'.format(iter, loss.item(), accuracy))"
      ],
      "execution_count": null,
      "outputs": [
        {
          "output_type": "stream",
          "name": "stdout",
          "text": [
            "Iteration: 500. Loss: 2.3033461570739746. Accuracy: 10.01\n",
            "Iteration: 1000. Loss: 2.3019847869873047. Accuracy: 16.53\n",
            "Iteration: 1500. Loss: 2.301551103591919. Accuracy: 15.4\n",
            "Iteration: 2000. Loss: 2.301203727722168. Accuracy: 14.32\n",
            "Iteration: 2500. Loss: 2.3005471229553223. Accuracy: 21.94\n",
            "Iteration: 3000. Loss: 2.2997095584869385. Accuracy: 19.18\n",
            "Iteration: 3500. Loss: 2.2991602420806885. Accuracy: 31.25\n",
            "Iteration: 4000. Loss: 2.298030138015747. Accuracy: 25.72\n",
            "Iteration: 4500. Loss: 2.2955048084259033. Accuracy: 30.94\n",
            "Iteration: 5000. Loss: 2.291647434234619. Accuracy: 29.44\n",
            "Iteration: 5500. Loss: 2.2833893299102783. Accuracy: 28.58\n",
            "Iteration: 6000. Loss: 2.2593634128570557. Accuracy: 27.13\n",
            "Iteration: 6500. Loss: 2.159060478210449. Accuracy: 24.49\n",
            "Iteration: 7000. Loss: 2.007627248764038. Accuracy: 25.03\n",
            "Iteration: 7500. Loss: 1.9498984813690186. Accuracy: 26.07\n",
            "Iteration: 8000. Loss: 1.8732408285140991. Accuracy: 28.77\n",
            "Iteration: 8500. Loss: 1.823539137840271. Accuracy: 29.53\n",
            "Iteration: 9000. Loss: 1.7472811937332153. Accuracy: 31.05\n",
            "Iteration: 9500. Loss: 1.6891669034957886. Accuracy: 31.83\n",
            "Iteration: 10000. Loss: 1.5778417587280273. Accuracy: 41.65\n",
            "Iteration: 10500. Loss: 1.519273042678833. Accuracy: 47.65\n",
            "Iteration: 11000. Loss: 1.362473726272583. Accuracy: 51.8\n",
            "Iteration: 11500. Loss: 1.3188749551773071. Accuracy: 50.46\n",
            "Iteration: 12000. Loss: 1.1629608869552612. Accuracy: 53.4\n",
            "Iteration: 12500. Loss: 1.0884225368499756. Accuracy: 57.67\n",
            "Iteration: 13000. Loss: 0.9495523571968079. Accuracy: 56.59\n",
            "Iteration: 13500. Loss: 0.9860295653343201. Accuracy: 56.48\n",
            "Iteration: 14000. Loss: 0.9253643751144409. Accuracy: 57.77\n",
            "Iteration: 14500. Loss: 0.8514302372932434. Accuracy: 69.88\n",
            "Iteration: 15000. Loss: 0.7484063506126404. Accuracy: 69.9\n",
            "Iteration: 15500. Loss: 0.7729533314704895. Accuracy: 71.72\n",
            "Iteration: 16000. Loss: 2.697567939758301. Accuracy: 46.06\n",
            "Iteration: 16500. Loss: 0.5953270792961121. Accuracy: 75.55\n",
            "Iteration: 17000. Loss: 0.6637491583824158. Accuracy: 77.43\n",
            "Iteration: 17500. Loss: 0.5431381464004517. Accuracy: 77.42\n",
            "Iteration: 18000. Loss: 0.4991070032119751. Accuracy: 82.07\n",
            "Iteration: 18500. Loss: 0.4127143323421478. Accuracy: 84.88\n",
            "Iteration: 19000. Loss: 0.32927462458610535. Accuracy: 84.42\n",
            "Iteration: 19500. Loss: 0.4160503149032593. Accuracy: 83.24\n"
          ]
        }
      ]
    },
    {
      "cell_type": "code",
      "metadata": {
        "colab": {
          "base_uri": "https://localhost:8080/",
          "height": 316
        },
        "id": "Egeoid1fNCBc",
        "outputId": "0bacf970-a397-4336-d4c0-15b520f11eb3"
      },
      "source": [
        "import matplotlib\n",
        "import matplotlib.pyplot as plt\n",
        "\n",
        "print (iteration_loss)\n",
        "plt.plot(iteration_loss)\n",
        "plt.ylabel('Loss')\n",
        "plt.xlabel('Iteration (in every 500)')\n",
        "plt.show()"
      ],
      "execution_count": null,
      "outputs": [
        {
          "output_type": "stream",
          "name": "stdout",
          "text": [
            "[0.6538705229759216, 0.4414617419242859, 0.7060843706130981, 0.6090282201766968, 0.27332040667533875, 0.5749495029449463, 0.6689385175704956, 0.4866218566894531, 0.1841004341840744, 0.7911199331283569, 0.2194070816040039, 0.42351585626602173, 0.3640749454498291, 0.5355470180511475, 0.17288999259471893, 0.7089505195617676, 0.11387046426534653, 0.800849437713623, 0.2131715714931488, 0.3363208472728729, 0.5210429430007935, 0.3831520974636078, 0.4135584831237793, 0.22635900974273682, 0.6149506568908691, 0.18949632346630096, 0.2439127415418625, 0.22930827736854553, 0.2660154402256012, 0.3184342384338379, 0.2245796173810959, 0.5093971490859985, 0.1982053518295288, 0.47364410758018494, 0.47286257147789, 0.39440682530403137]\n"
          ]
        },
        {
          "output_type": "display_data",
          "data": {
            "image/png": "[encoded data removed]",
            "text/plain": [
              "<Figure size 432x288 with 1 Axes>"
            ]
          },
          "metadata": {
            "needs_background": "light"
          }
        }
      ]
    }
  ]
}