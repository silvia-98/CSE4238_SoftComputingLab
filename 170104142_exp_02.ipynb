{
  "nbformat": 4,
  "nbformat_minor": 0,
  "metadata": {
    "colab": {
      "name": "170104142_exp_02.ipynb",
      "provenance": [],
      "collapsed_sections": []
    },
    "kernelspec": {
      "name": "python3",
      "display_name": "Python 3"
    },
    "language_info": {
      "name": "python"
    }
  },
  "cells": [
    {
      "cell_type": "code",
      "metadata": {
        "id": "V8ZcHtvV00En"
      },
      "source": [
        "import numpy as np\n",
        "import pandas as pd\n",
        "import torch\n",
        "import torch.nn as nn\n",
        "import torch.nn.functional as F\n",
        "import torch.optim as optim\n",
        "from torch.utils.data import Dataset\n",
        "from torch.utils.data.sampler import SubsetRandomSampler\n",
        "import matplotlib\n",
        "import matplotlib.pyplot as plt\n",
        "from PIL import Image\n",
        "from torchvision import datasets, transforms, models\n",
        "from torch.autograd import Variable\n",
        "from zipfile import ZipFile\n",
        "import os\n",
        "from os import path\n",
        "import shutil"
      ],
      "execution_count": null,
      "outputs": []
    },
    {
      "cell_type": "code",
      "metadata": {
        "colab": {
          "base_uri": "https://localhost:8080/"
        },
        "id": "UU6Y4CMF0O2u",
        "outputId": "af7cde6b-1250-41a9-f152-5f1f7b30d2ad"
      },
      "source": [
        "from google.colab import drive\n",
        "drive.mount('/content/drive')"
      ],
      "execution_count": null,
      "outputs": [
        {
          "output_type": "stream",
          "name": "stdout",
          "text": [
            "Mounted at /content/drive\n"
          ]
        }
      ]
    },
    {
      "cell_type": "code",
      "metadata": {
        "colab": {
          "base_uri": "https://localhost:8080/"
        },
        "id": "sDygDkFB2G_W",
        "outputId": "5f018f77-2d6b-4ab5-9594-51771f3cb951"
      },
      "source": [
        "import os\n",
        "print(os.listdir((\"/content/drive/My Drive/\")))"
      ],
      "execution_count": null,
      "outputs": [
        {
          "output_type": "stream",
          "name": "stdout",
          "text": [
            "['splnproc1703_mac.docm', 'Classroom', 'CSE3223_170104142_PartA_SectionC.pdf', 'CSE3213_170104142_PartA_SectionC.pdf', 'CSE3215_170104142_PartA_SectionC.pdf', '170104142 (5).pdf', 'CSE3213_170104142_PartA.pdf', 'CSE3213_170104142_partB.pdf', 'CSE3211_170104142_PartA .pdf', 'CSE3211_170104142_partB.pdf', 'HUM3207_170104142_partA.pdf', 'HUM3207_170104142_partB.pdf', 'CSE3223_170104142_partA.pdf', 'CSE3223_170104142_partB.pdf', 'CSE3215_170104142_partA.pdf', 'CSE3215_170104142_partB (1).pdf', 'CSE3215_170104142_partB.pdf', 'thesis', 'compiler lab return', '170104142_Assignment1 (1).pdf', '170104142_Assignment1.c', 'input1.c', 'DDS', 'C2_170104142 (1).pdf', '170104142 (4).pdf', 'C2_170104142.pdf', '170104142_on1 (1).c', '170104142_on1.c', 'MSD_proposal3.2.pptx', ' Introduction to IPv4 and Ipv6 Address.gslides', '170104142_quiz1.pdf', 'QUIZ - 01 SET - C_170104142.gdoc', '41', 'C2_170104142_assignment2.docx', '170104142_Assignment-2.pdf', '170104142_Assignment2.pdf', '170104142_Assignment2.c', 'input (2).txt', '170104142_ex1.c', '170104142.sql', '170104142_CSE4107_quiz1.pdf', '170104142 (3).pdf', '170104142_CSE4108_QUIZ1.pdf', '170104142_ai.pdf', 'QUIZ - 02 Set - B (1).gdoc', 'QUIZ - 02 Set - B.gdoc', 'QUIZ - 02 Set - A.gdoc', 'on2_170104142.c', 'on2_170104142.pdf', 'Convolutional-Neural-Networks-for-Diabetic-Retinopathy.pptx', 'Automated-detection-of-diabetic-retinopathy-using-SVM.pptm', 'DREAM_ Diabetic Retinopathy Analysis using Machine Learning.pptx', 'paper regarding DR OF BD.gdoc', 'Intermediate Regular.gdoc', 'Statictics about  Diabetic Retinopathy in Bangladesh.gdoc', '170104142 (1).rar', '170104142_Assignment3.pdf', '170104142 .c', 'input (1).txt', 'biyani2018.gdoc', 'Diabetic-Retinopathy-Detection-using-machine-learning-in-the.pptx', 'Untitled document.gdoc', 'Diabetic-Retinopathy (1).docx', 'PENDRIVE', 'M.Sc.Thesisproposalpresentation.gslides', 'Emotionally-Aware-Chatbot.pptx', 'Refferences.gdoc', '170104119.docx', 'AI SESSION 3', 'lab 3 compiler', 'Assignment 4', '170104142.c', 'input.txt', '170104142 (2).pdf', '170104142_Compiler_Quiz2.pdf', 'EYE STRUCTURE  DIFFERENCE  IN DIFFERENT ETHNICITY.gdoc', 'Code paper.gdoc', 'Initial Thesis Topic Selection:.gdoc', 'Thesis.gdoc', 'Online 02 Set - A (1).gdoc', 'Online 02 Set - A.gdoc', 'router2.txt', 'router2.gdoc', 'Preprocessing paper  links.gdoc', 'ON3_170104142.c', 'ON3_170104142 .pdf', 'ASSIGMENT 4 COMPILER ', '170104142_ml_quiz.pdf', 'CamScanner 03-14-2021 17.57.pdf', 'SVM     .gdoc', 'Company.gdoc', 'on4_170104142.c', 'ON4_170104142.pdf', '170104142_Assignment-3.pdf', '170104142.zip', '17.01.04.142 _BIODATA.docx', '170104142_quiz3_dbms.pdf', 'Paper Discussion .gdoc', 'Summarization of Diabetic Retinopathy Paper.gdoc', 'dataset', 'dataset1', 'Colab Notebooks', '170104142.rar', '170104142_Ai_quiz2.pdf', 'Compiler 5', '170104142 (1).pdf', '170104142_ex1.cpp', '170104142_ex2.cpp', '170104142_main.cpp', 'Session5_suppl.gdoc', 'Session5.gdoc', '2014_04_msw_a4_format.doc', '170104142_Assignment4.docx', 'Session 5.pptx', '170104142_Assignment4.pdf', 'Smartphone Funduscopy: .gdoc', 'Set 1.pdf', 'Set 1.gdoc', '170104142_ai_labfinal (1).pdf', '170104142_ai_labfinal.pdf', 'Final Online Assessment.gdoc', '170104142_FinalQuiz_QuesNo1 (1).c', '170104142_FinalQuiz_QuesNo2 (2).c', '170104142_FinalQuiz_QuesNo2 (1).c', '170104142_FinalQuiz_QuesNo1.c', '170104142_FinalQuiz_QuesNo2.c', 'FON_170104142.docx', 'FON_170104142.pdf', '1617212127749_Face Mask Detection using Convolutional Neural Network (CNN) to reduce the spread of Covid-19  (3).pdf', '1617212127749_Face Mask Detection using Convolutional Neural Network (CNN) to reduce the spread of Covid-19  (2).pdf', '1617212127749_Face Mask Detection using Convolutional Neural Network (CNN) to reduce the spread of Covid-19  (1).pdf', 'CA 3_Set B.gdoc', '170104142_3.pdf', 'fp_170104142.c', 'report_170104142.txt', 'COVID-19 Lung CT Scans', 'SET - A - 170104142_Lab Final Assessment.gdoc', '170104142_TermAssignment-1.pdf', 'extracted_features.csv', '1617212127749_Face Mask Detection using Convolutional Neural Network (CNN) to reduce the spread of Covid-19 .pdf', '1617212127749_Face Mask Detection using Convolutional Neural Network (CNN) to reduce the spread of Covid-19  (3).gdoc', 'guyi .gdoc', 'Conference-template-A4 (1).docx', '170104142_Assignment1.pdf', 'Diabetic Retinopathy Dataset Analysis.gdoc', 'Lisa_ mam _questions.gdoc', 'JRNC_Manuscript_template.doc', 'Paper for Glaucoma Detection:.gdoc', 'Summarization of Glaucoma Detection using Deep Learning .gdoc', 'GLAUCOMA  paper.docx', 'Average_Poolng.gdoc', 'glaucoma document.gdoc', 'glucoma_detection.docx', '1617212127749_Face Mask Detection using Convolutional Neural Network (CNN) to reduce the spread of Covid-19  (2).gdoc', 'Assignment1.xlsx', '170104142.pdf', '1617212127749_Face Mask Detection using Convolutional Neural Network (CNN) to reduce the spread of Covid-19  (1).gdoc', 'Skin cancer_papers.gdoc', 'Model_Descripiton.docx', 'Conclusion_Skin cancer.gdoc', 'setection and diagnosis of smart factory 4.0 using machine learning_ paper link.gdoc', 'Fault detection smart factory_State of the art.gdoc', 'Fault detection smart factory_Introduction.gdoc', 'Paper', 'Brain tumor_paperlink .gdoc', 'journal_links.gdoc', 'Brain tumor_State of the art.gdoc', 'Glaucoma_MostFinal.gdoc', 'Word-Template.docx', 'conference-template-A4.docx', 'Conference-template-A4.docx', '1617212127749_Face Mask Detection using Convolutional Neural Network (CNN) to reduce the spread of Covid-19 .gdoc', 'ICIT document.gdoc', 'COVID-19-Diagnosis-from-Chest-X-ray-Images-Using-Convolutional-Neural-NetworkCNN-and-InceptionV3 (2) (2).pdf', 'COVID-19-Diagnosis-from-Chest-X-ray-Images-Using-Convolutional-Neural-NetworkCNN-and-InceptionV3 (2) (1).pdf', 'COVID-19-Diagnosis-from-Chest-X-ray-Images-Using-Convolutional-Neural-NetworkCNN-and-InceptionV3 (2).pdf', 'COVID-19-Diagnosis-from-Chest-X-ray-Images-Using-Convolutional-Neural-NetworkCNN-and-InceptionV3 (2) (3).gdoc', 'COVID-19-Diagnosis-from-Chest-X-ray-Images-Using-Convolutional-Neural-NetworkCNN-and-InceptionV3 (2) (2).gdoc', 'Conference-template-A4 (1).doc', 'COVID-19-Diagnosis-from-Chest-X-ray-Images-Using-Convolutional-Neural-NetworkCNN-and-InceptionV3 (2) (1).gdoc', 'abstract_template.doc', 'Silvia Sanjana.docx', 'COVID-19-Diagnosis-from-Chest-X-ray-Images-Using-Convolutional-Neural-NetworkCNN-and-InceptionV3 (2).gdoc', 'ICIT-template-A4.docx', \"reviewers' answer.gdoc\", '170104142_CSE4107_PartA.pdf', '170104142_CSE4107_PartB.pdf', '170104142_CSE4125.pdf', '170104142_CSE4101.pdf', '170104142_CSE4129.pdf', 'Brain Tumor_Introduction .gdoc', 'CSE4107_170104142_PartA.pdf', 'CSE4107_170104142_PartB.pdf', 'CSE4125_170104142.pdf', 'My 4.1 exam', 'Compiler Theory Video Links.gdoc', 'CSE4129_170104142 (2).pdf', 'CSE4129_170104142 (1).pdf', 'CSE4129_170104142.pdf', 'Performance Analysis of Glaucoma Detection Using Deep Learning Models (1).pdf', 'Performance Analysis of Glaucoma Detection\\xa0Using Deep Learning Models_extended abstract (1).gdoc', 'Performance Analysis of Glaucoma Detection Using Deep Learning Models.gdoc', 'Performance Analysis of Glaucoma Detection\\xa0Using Deep Learning Models_most final.gdoc', 'Performance Analysis of Glaucoma Detection\\xa0Using Deep Learning Models_extended abstract.gdoc', 'CSE4101_170104142 (1).pdf', 'CSE4101_170104142.pdf', 'IPE4111_170104142_PartA.pdf', 'IPE4111_170104142_PartB.pdf', 'skin cancer paper_state of the art.gdoc', 'introduction_Skin cancer.gdoc', 'DDoSSQLi.docx', 'Thesis-report-on-diabetic-retinopathy.docx', 'ThesisPaperWriting_Sami.docx', 'CSE4100_Report.pdf', 'CSE4100_Report.gdoc', 'MobileNetV2 Architecture_Result section.gdoc', 'DR_InceptionResNetV2 Architecture_Result Analysis.gdoc', 'NASNetMobile_ Architecture_Result section.gdoc', 'DenseNet121 Architecture_Result.gdoc', 'Lecture1-Introduction-Jan18-2021.pptx', 'finalppt-170316081234.pdf', 'Diabetic-retinopathy-detection_Fahim.pptx', 'Modified1-Report.docx', 'Thesis_final report priyata.gdoc', 'A Comparative Study of Diabetic Retinopathy Detection using Machine Learning and Deep Learning architectures.pptx', 'ThesisPaperWriting_hridoy_Final.docx', 'CSE4108 Final VersionS (1).gdoc', 'CSE4108 Final VersionS.gdoc', 'Intro_triangle.gdoc', 'Emotionally-Aware-Chatbot-EDAIC.pptx', 'Minimalist Aesthetic Slideshow by Slidesgo.pptx', 'Abstract Focus _ by Slidesgo.pptx', 'Automated-Diabetic-Retinopathy-Detection-Using-Deep-Learning-Models.pptx', 'A Comparative Study of Diabetic Retinopathy Detection using Machine Learning and Deep Learning architectures_Final.gdoc', 'CSE4100_presentation-3.pptx', 'Untitled presentation.gslides', 'CSE_4_2_Folder', 'priyata1 (1).jpg', 'Untitled2.m', 'priyata1.jpg', 'c2_170104142.m', 'plagarism_Check.gdoc', 'splnproc1703_mac.docm.gdoc', 'Performance Analysis of Diabetic Retinopathy Detection Using Deep Learning Models_sharmeen mam.gslides', 'DR detection  Nusrat Sharmin mam_ abstract _introduction.gdoc', 'Performance Analysis of Glaucoma Detection Using Deep Learning Models_Final.gdoc', 'DR detection _State of the art_Journal document.gdoc', 'Diabetic retinopathy_Sharmin mam.docx', 'outperforming_state of the arts _DR.gdoc', 'Resort', 'Matrix_Factorization_Assignment.csv', 'loss_1900.csv', 'Assignment_nibir sir shadhin.gdoc', 'Assignment_Nibir sir.gdoc', '170104121_241_codes.ipynb', '170104118_226_codes.ipynb', 'Pattern Recognition Lab', 'Emotion-Detection-from-Text.docx', 'Outperforming Models_Covid-2.gdoc', 'COVID-2_papers.gslides', '170104142_softcomputing.pdf', 'Performance Analysis of Glaucoma Detection Using Deep Learning Models .docx', '170104142_CG_QUIZ1.pdf', '170104142_CSE4213_Quiz1.pdf', 'train-perceptron.txt', '170104142_C2_experiement2.docx', 'Covid-2.0.docx', 'Robindronath Ekhane Kawkhono Khete Aashenni S01 (1080p Hoichoi WEBRip HEVC x265 10bit AAC 2.0) ~ _[Kira]_', 'C2_170104142.rar', 'DR diagnosis using TL models.gdoc', 'assignment.gdoc', 'Experimental Results_DR_Sharmin Mam.gdoc', 'DR detection _abstract_ introduction_Journal.docx', 'sensors-21-03704-v3.pdf', '17.01.04.142.docx', 'Ref_journal.gdoc', 'Dataset A.zip']\n"
          ]
        }
      ]
    },
    {
      "cell_type": "code",
      "metadata": {
        "id": "RpQQD0gc2MXt"
      },
      "source": [
        "path = \"/content/drive/My Drive/\"\n",
        "\n",
        "dataset_A = path + 'Dataset A.zip'\n",
        "with ZipFile(dataset_A, 'r') as zip:\n",
        "  zip.extractall()"
      ],
      "execution_count": null,
      "outputs": []
    },
    {
      "cell_type": "code",
      "metadata": {
        "colab": {
          "base_uri": "https://localhost:8080/",
          "height": 221
        },
        "id": "L5W06rZf2li6",
        "outputId": "28d8eda4-063a-40dc-b8ed-445a2b738689"
      },
      "source": [
        "PATH = '/content/'\n",
        "data_labels = pd.read_csv(PATH + 'training-a.csv', usecols = ['filename', 'digit'])\n",
        "print(data_labels.shape)\n",
        "data_labels.head()"
      ],
      "execution_count": null,
      "outputs": [
        {
          "output_type": "stream",
          "name": "stdout",
          "text": [
            "(19702, 2)\n"
          ]
        },
        {
          "output_type": "execute_result",
          "data": {
            "text/html": [
              "<div>\n",
              "<style scoped>\n",
              "    .dataframe tbody tr th:only-of-type {\n",
              "        vertical-align: middle;\n",
              "    }\n",
              "\n",
              "    .dataframe tbody tr th {\n",
              "        vertical-align: top;\n",
              "    }\n",
              "\n",
              "    .dataframe thead th {\n",
              "        text-align: right;\n",
              "    }\n",
              "</style>\n",
              "<table border=\"1\" class=\"dataframe\">\n",
              "  <thead>\n",
              "    <tr style=\"text-align: right;\">\n",
              "      <th></th>\n",
              "      <th>filename</th>\n",
              "      <th>digit</th>\n",
              "    </tr>\n",
              "  </thead>\n",
              "  <tbody>\n",
              "    <tr>\n",
              "      <th>0</th>\n",
              "      <td>a00000.png</td>\n",
              "      <td>5</td>\n",
              "    </tr>\n",
              "    <tr>\n",
              "      <th>1</th>\n",
              "      <td>a00001.png</td>\n",
              "      <td>3</td>\n",
              "    </tr>\n",
              "    <tr>\n",
              "      <th>2</th>\n",
              "      <td>a00002.png</td>\n",
              "      <td>1</td>\n",
              "    </tr>\n",
              "    <tr>\n",
              "      <th>3</th>\n",
              "      <td>a00003.png</td>\n",
              "      <td>7</td>\n",
              "    </tr>\n",
              "    <tr>\n",
              "      <th>4</th>\n",
              "      <td>a00004.png</td>\n",
              "      <td>0</td>\n",
              "    </tr>\n",
              "  </tbody>\n",
              "</table>\n",
              "</div>"
            ],
            "text/plain": [
              "     filename  digit\n",
              "0  a00000.png      5\n",
              "1  a00001.png      3\n",
              "2  a00002.png      1\n",
              "3  a00003.png      7\n",
              "4  a00004.png      0"
            ]
          },
          "metadata": {},
          "execution_count": 5
        }
      ]
    },
    {
      "cell_type": "code",
      "metadata": {
        "id": "DmOZPvMi2r7w"
      },
      "source": [
        "TRAIN_PATH = \"/content/drive/My Drive/Train\"\n",
        "os.mkdir(TRAIN_PATH)\n",
        "\n",
        "def processImages(folder_name):\n",
        "  src = \"/content/\" + folder_name + '/'\n",
        "  dir_folders = os.listdir(src)\n",
        "  for dir_name in dir_folders:\n",
        "    file_name = os.path.join(src, dir_name)\n",
        "    if os.path.isfile(file_name):\n",
        "      shutil.copy(file_name, TRAIN_PATH) \n",
        "\n",
        "processImages('training-a')"
      ],
      "execution_count": null,
      "outputs": []
    },
    {
      "cell_type": "code",
      "metadata": {
        "id": "f_Eu7LyJ2vum"
      },
      "source": [
        "class Dataset(Dataset):\n",
        "    def __init__(self, df, root, transform=None):\n",
        "        self.data = df\n",
        "        self.root = root\n",
        "        self.transform = transform\n",
        "        \n",
        "    def __len__(self):\n",
        "        return len(self.data)\n",
        "    \n",
        "    def __getitem__(self, index):\n",
        "        item = self.data.iloc[index]\n",
        "        \n",
        "        path = self.root + \"/\" + item[0]\n",
        "        image = Image.open(path).convert('L')\n",
        "        label = item[1]\n",
        "        \n",
        "        if self.transform is not None:\n",
        "            image = self.transform(image)\n",
        "            \n",
        "        return image, label"
      ],
      "execution_count": null,
      "outputs": []
    },
    {
      "cell_type": "code",
      "metadata": {
        "id": "3nszJCYf6X1m"
      },
      "source": [
        "class Dataset(Dataset):\n",
        "    def __init__(self, df, root, transform=None):\n",
        "        self.data = df\n",
        "        self.root = root\n",
        "        self.transform = transform\n",
        "        \n",
        "    def __len__(self):\n",
        "        return len(self.data)\n",
        "    \n",
        "    def __getitem__(self, index):\n",
        "        item = self.data.iloc[index]\n",
        "        \n",
        "        path = self.root + \"/\" + item[0]\n",
        "        image = Image.open(path).convert('L')\n",
        "        label = item[1]\n",
        "        \n",
        "        if self.transform is not None:\n",
        "            image = self.transform(image)\n",
        "            \n",
        "        return image, label"
      ],
      "execution_count": null,
      "outputs": []
    },
    {
      "cell_type": "code",
      "metadata": {
        "id": "xtGRsoD-6auR"
      },
      "source": [
        "mean = [0.5,]\n",
        "std = [0.5, ]\n",
        "\n",
        "train_transform = transforms.Compose([\n",
        "    transforms.Resize(28),\n",
        "    transforms.ToTensor(),\n",
        "    transforms.Normalize(mean, std)\n",
        "])\n",
        "\n",
        "test_transform = transforms.Compose([\n",
        "        transforms.Resize(28),\n",
        "        transforms.ToTensor(),\n",
        "        transforms.Normalize(mean, std)\n",
        "])\n",
        "\n",
        "train_data  = Dataset(data_labels, TRAIN_PATH, train_transform)\n",
        "test_data = Dataset(data_labels, TRAIN_PATH, test_transform)\n",
        "\n"
      ],
      "execution_count": null,
      "outputs": []
    },
    {
      "cell_type": "code",
      "metadata": {
        "colab": {
          "base_uri": "https://localhost:8080/"
        },
        "id": "_20NHGq46eqb",
        "outputId": "2273c85d-eb95-4f23-ddc7-5c79db76ad53"
      },
      "source": [
        "batch_size = 350\n",
        "num_iters = 20000\n",
        "input_dim = 28*28 # num_features = 784\n",
        "num_hidden = 300 # num of hidden nodes\n",
        "output_dim = 10\n",
        "\n",
        "learning_rate = 0.02  # More power so we can learn faster! previously it was 0.001\n",
        "\n",
        "num_epochs = num_iters / (len(train_data) / batch_size)\n",
        "num_epochs = int(num_epochs)\n",
        "print(num_epochs)\n",
        "\n",
        "device = torch.device(\"cuda:0\" if torch.cuda.is_available() else \"cpu\")"
      ],
      "execution_count": null,
      "outputs": [
        {
          "output_type": "stream",
          "name": "stdout",
          "text": [
            "355\n"
          ]
        }
      ]
    },
    {
      "cell_type": "code",
      "metadata": {
        "colab": {
          "base_uri": "https://localhost:8080/"
        },
        "id": "X_jJwP7J6fxd",
        "outputId": "2a326e18-a265-487a-bd68-402936ea35ed"
      },
      "source": [
        "test_size = 0.2\n",
        "num_train = len(train_data)\n",
        "indices = list(range(num_train))\n",
        "np.random.shuffle(indices)\n",
        "split = int(np.floor(test_size * num_train))\n",
        "train_idx, test_idx = indices[split:], indices[:split]\n",
        "\n",
        "train_sampler = SubsetRandomSampler(train_idx)\n",
        "test_sampler = SubsetRandomSampler(test_idx)\n",
        "\n",
        "train_loader = torch.utils.data.DataLoader(\n",
        "    train_data, batch_size=batch_size,\n",
        "    sampler=train_sampler)\n",
        "\n",
        "test_loader = torch.utils.data.DataLoader(\n",
        "    test_data, batch_size=batch_size,\n",
        "    sampler=test_sampler)\n",
        "\n",
        "print(\"Train dataloader:{}\".format(len(train_loader)))\n",
        "print(\"Test dataloader:{}\".format(len(test_loader)))"
      ],
      "execution_count": null,
      "outputs": [
        {
          "output_type": "stream",
          "name": "stdout",
          "text": [
            "Train dataloader:46\n",
            "Test dataloader:12\n"
          ]
        }
      ]
    },
    {
      "cell_type": "code",
      "metadata": {
        "id": "MNB7Sgou6iln"
      },
      "source": [
        "class DeepNeuralNetworkModel(nn.Module):\n",
        "    def __init__(self, input_size, num_classes, num_hidden):\n",
        "        super().__init__()\n",
        "       \n",
        "        self.linear_1 = nn.Linear(input_size, num_hidden)\n",
        "        self.relu_1 = nn.ReLU()\n",
        " \n",
        "        self.linear_2 = nn.Linear(num_hidden, num_hidden)\n",
        "        self.relu_2 = nn.ReLU()\n",
        " \n",
        "        self.linear_3 = nn.Linear(num_hidden, num_hidden)\n",
        "        self.relu_3 = nn.Softmax(dim=0)\n",
        " \n",
        "        self.linear_4 = nn.Linear(num_hidden, num_hidden)\n",
        "        self.relu_4 = nn.ReLU()\n",
        " \n",
        "        self.linear_5= nn.Linear(num_hidden, num_hidden)\n",
        "        self.relu_5= nn.ReLU()\n",
        " \n",
        "        self.linear_6 = nn.Linear(num_hidden, num_hidden)\n",
        "        self.relu_6 = nn.ReLU()\n",
        " \n",
        "        self.linear_out = nn.Linear(num_hidden, num_classes)\n",
        " \n",
        "    def forward(self, x):\n",
        "        out  = self.linear_1(x)\n",
        "        out = self.relu_1(out)\n",
        "        \n",
        "        out  = self.linear_2(out)\n",
        "        out = self.relu_2(out)\n",
        " \n",
        "        out  = self.linear_3(out)\n",
        "        out = self.relu_3(out)\n",
        " \n",
        "        out  = self.linear_4(out)\n",
        "        out = self.relu_4(out)\n",
        " \n",
        "        out  = self.linear_5(out)\n",
        "        out = self.relu_5(out)\n",
        " \n",
        "        out  = self.linear_6(out)\n",
        "        out = self.relu_6(out)\n",
        "        \n",
        "        probas  = self.linear_out(out)\n",
        "        return probas\n"
      ],
      "execution_count": null,
      "outputs": []
    },
    {
      "cell_type": "code",
      "metadata": {
        "colab": {
          "base_uri": "https://localhost:8080/"
        },
        "id": "P1GDq6TX6lMv",
        "outputId": "423fd6d7-7280-4fa7-84e8-8a4d861d6487"
      },
      "source": [
        "model = DeepNeuralNetworkModel(input_size = input_dim, num_classes = output_dim, num_hidden = num_hidden)\n",
        "\n",
        "model.to(device)"
      ],
      "execution_count": null,
      "outputs": [
        {
          "output_type": "execute_result",
          "data": {
            "text/plain": [
              "DeepNeuralNetworkModel(\n",
              "  (linear_1): Linear(in_features=784, out_features=300, bias=True)\n",
              "  (relu_1): ReLU()\n",
              "  (linear_2): Linear(in_features=300, out_features=300, bias=True)\n",
              "  (relu_2): ReLU()\n",
              "  (linear_3): Linear(in_features=300, out_features=300, bias=True)\n",
              "  (relu_3): Softmax(dim=0)\n",
              "  (linear_4): Linear(in_features=300, out_features=300, bias=True)\n",
              "  (relu_4): ReLU()\n",
              "  (linear_5): Linear(in_features=300, out_features=300, bias=True)\n",
              "  (relu_5): ReLU()\n",
              "  (linear_6): Linear(in_features=300, out_features=300, bias=True)\n",
              "  (relu_6): ReLU()\n",
              "  (linear_out): Linear(in_features=300, out_features=10, bias=True)\n",
              ")"
            ]
          },
          "metadata": {},
          "execution_count": 13
        }
      ]
    },
    {
      "cell_type": "code",
      "metadata": {
        "id": "If50o4ft6nSl"
      },
      "source": [
        "criterion = nn.CrossEntropyLoss()\n",
        "optimizer = torch.optim.Adamax(model.parameters(), lr=learning_rate)"
      ],
      "execution_count": null,
      "outputs": []
    },
    {
      "cell_type": "code",
      "metadata": {
        "colab": {
          "base_uri": "https://localhost:8080/"
        },
        "id": "ZzQuCqAM6pld",
        "outputId": "1fda98c7-f66a-49f9-a531-89b7486746b0"
      },
      "source": [
        "iteration_loss = []\n",
        "iter = 0\n",
        "for epoch in range(num_epochs):\n",
        "    print('Epoch: ', epoch + 1)\n",
        "    for i, (images, labels) in enumerate(train_loader):\n",
        "\n",
        "        images = images.view(-1, 28*28).to(device)\n",
        "        labels = labels.to(device)\n",
        "\n",
        "        optimizer.zero_grad()\n",
        "\n",
        "        outputs = model(images) \n",
        "\n",
        "        loss = criterion(outputs, labels)\n",
        "\n",
        "        loss.backward()\n",
        "\n",
        "        optimizer.step()\n",
        "\n",
        "        iter += 1\n",
        "\n",
        "        if iter % 500 == 0:        \n",
        "            correct = 0\n",
        "            total = 0\n",
        "            for images, labels in test_loader:\n",
        "               \n",
        "                images = images.view(-1, 28*28).to(device)\n",
        "\n",
        "                outputs = model(images)\n",
        "\n",
        "                _, predicted = torch.max(outputs, 1)\n",
        "\n",
        "                total += labels.size(0)\n",
        "\n",
        "                if torch.cuda.is_available():\n",
        "                    correct += (predicted.cpu() == labels.cpu()).sum() \n",
        "                else:\n",
        "                    correct += (predicted == labels).sum()\n",
        "\n",
        "            accuracy = 100 * correct.item() / total\n",
        "\n",
        "            iteration_loss.append(loss.item())\n",
        "            print('Iteration: {}. Loss: {}. Accuracy: {}'.format(iter, loss.item(), accuracy))"
      ],
      "execution_count": null,
      "outputs": [
        {
          "output_type": "stream",
          "name": "stdout",
          "text": [
            "Epoch:  1\n",
            "Epoch:  2\n",
            "Epoch:  3\n",
            "Epoch:  4\n",
            "Epoch:  5\n",
            "Epoch:  6\n",
            "Epoch:  7\n",
            "Epoch:  8\n",
            "Epoch:  9\n",
            "Epoch:  10\n",
            "Epoch:  11\n",
            "Iteration: 500. Loss: 1.595639944076538. Accuracy: 31.497461928934012\n",
            "Epoch:  12\n",
            "Epoch:  13\n",
            "Epoch:  14\n",
            "Epoch:  15\n",
            "Epoch:  16\n",
            "Epoch:  17\n",
            "Epoch:  18\n",
            "Epoch:  19\n",
            "Epoch:  20\n",
            "Epoch:  21\n",
            "Epoch:  22\n",
            "Iteration: 1000. Loss: 1.5508804321289062. Accuracy: 33.09644670050761\n",
            "Epoch:  23\n",
            "Epoch:  24\n",
            "Epoch:  25\n",
            "Epoch:  26\n",
            "Epoch:  27\n",
            "Epoch:  28\n",
            "Epoch:  29\n",
            "Epoch:  30\n",
            "Epoch:  31\n",
            "Epoch:  32\n",
            "Epoch:  33\n",
            "Iteration: 1500. Loss: 0.9442182183265686. Accuracy: 62.63959390862944\n",
            "Epoch:  34\n",
            "Epoch:  35\n",
            "Epoch:  36\n",
            "Epoch:  37\n",
            "Epoch:  38\n",
            "Epoch:  39\n",
            "Epoch:  40\n",
            "Epoch:  41\n",
            "Epoch:  42\n",
            "Epoch:  43\n",
            "Epoch:  44\n",
            "Iteration: 2000. Loss: 0.800396203994751. Accuracy: 66.24365482233503\n",
            "Epoch:  45\n",
            "Epoch:  46\n",
            "Epoch:  47\n",
            "Epoch:  48\n",
            "Epoch:  49\n",
            "Epoch:  50\n",
            "Epoch:  51\n",
            "Epoch:  52\n",
            "Epoch:  53\n",
            "Epoch:  54\n",
            "Epoch:  55\n",
            "Iteration: 2500. Loss: 0.7425801157951355. Accuracy: 66.16751269035532\n",
            "Epoch:  56\n",
            "Epoch:  57\n",
            "Epoch:  58\n",
            "Epoch:  59\n",
            "Epoch:  60\n",
            "Epoch:  61\n",
            "Epoch:  62\n",
            "Epoch:  63\n",
            "Epoch:  64\n",
            "Epoch:  65\n",
            "Epoch:  66\n",
            "Iteration: 3000. Loss: 0.5644039511680603. Accuracy: 73.19796954314721\n",
            "Epoch:  67\n",
            "Epoch:  68\n",
            "Epoch:  69\n",
            "Epoch:  70\n",
            "Epoch:  71\n",
            "Epoch:  72\n",
            "Epoch:  73\n",
            "Epoch:  74\n",
            "Epoch:  75\n",
            "Epoch:  76\n",
            "Epoch:  77\n",
            "Iteration: 3500. Loss: 0.4363650977611542. Accuracy: 75.50761421319797\n",
            "Epoch:  78\n",
            "Epoch:  79\n",
            "Epoch:  80\n",
            "Epoch:  81\n",
            "Epoch:  82\n",
            "Epoch:  83\n",
            "Epoch:  84\n",
            "Epoch:  85\n",
            "Epoch:  86\n",
            "Epoch:  87\n",
            "Iteration: 4000. Loss: 0.5090310573577881. Accuracy: 79.74619289340102\n",
            "Epoch:  88\n",
            "Epoch:  89\n",
            "Epoch:  90\n",
            "Epoch:  91\n",
            "Epoch:  92\n",
            "Epoch:  93\n",
            "Epoch:  94\n",
            "Epoch:  95\n",
            "Epoch:  96\n",
            "Epoch:  97\n",
            "Epoch:  98\n",
            "Iteration: 4500. Loss: 0.40122079849243164. Accuracy: 80.93908629441624\n",
            "Epoch:  99\n",
            "Epoch:  100\n",
            "Epoch:  101\n",
            "Epoch:  102\n",
            "Epoch:  103\n",
            "Epoch:  104\n",
            "Epoch:  105\n",
            "Epoch:  106\n",
            "Epoch:  107\n",
            "Epoch:  108\n",
            "Epoch:  109\n",
            "Iteration: 5000. Loss: 0.3894078731536865. Accuracy: 81.77664974619289\n",
            "Epoch:  110\n",
            "Epoch:  111\n",
            "Epoch:  112\n",
            "Epoch:  113\n",
            "Epoch:  114\n",
            "Epoch:  115\n",
            "Epoch:  116\n",
            "Epoch:  117\n",
            "Epoch:  118\n",
            "Epoch:  119\n",
            "Epoch:  120\n",
            "Iteration: 5500. Loss: 0.29310184717178345. Accuracy: 82.38578680203045\n",
            "Epoch:  121\n",
            "Epoch:  122\n",
            "Epoch:  123\n",
            "Epoch:  124\n",
            "Epoch:  125\n",
            "Epoch:  126\n",
            "Epoch:  127\n",
            "Epoch:  128\n",
            "Epoch:  129\n",
            "Epoch:  130\n",
            "Epoch:  131\n",
            "Iteration: 6000. Loss: 0.27039575576782227. Accuracy: 82.43654822335026\n",
            "Epoch:  132\n",
            "Epoch:  133\n",
            "Epoch:  134\n",
            "Epoch:  135\n",
            "Epoch:  136\n",
            "Epoch:  137\n",
            "Epoch:  138\n",
            "Epoch:  139\n",
            "Epoch:  140\n",
            "Epoch:  141\n",
            "Epoch:  142\n",
            "Iteration: 6500. Loss: 0.28251132369041443. Accuracy: 82.91878172588832\n",
            "Epoch:  143\n",
            "Epoch:  144\n",
            "Epoch:  145\n",
            "Epoch:  146\n",
            "Epoch:  147\n",
            "Epoch:  148\n",
            "Epoch:  149\n",
            "Epoch:  150\n",
            "Epoch:  151\n",
            "Epoch:  152\n",
            "Epoch:  153\n",
            "Iteration: 7000. Loss: 0.2703360319137573. Accuracy: 84.16243654822335\n",
            "Epoch:  154\n",
            "Epoch:  155\n",
            "Epoch:  156\n",
            "Epoch:  157\n",
            "Epoch:  158\n",
            "Epoch:  159\n",
            "Epoch:  160\n",
            "Epoch:  161\n",
            "Epoch:  162\n",
            "Epoch:  163\n",
            "Epoch:  164\n",
            "Iteration: 7500. Loss: 0.19153642654418945. Accuracy: 84.54314720812182\n",
            "Epoch:  165\n",
            "Epoch:  166\n",
            "Epoch:  167\n",
            "Epoch:  168\n",
            "Epoch:  169\n",
            "Epoch:  170\n",
            "Epoch:  171\n",
            "Epoch:  172\n",
            "Epoch:  173\n",
            "Epoch:  174\n",
            "Iteration: 8000. Loss: 0.1642908751964569. Accuracy: 85.30456852791878\n",
            "Epoch:  175\n",
            "Epoch:  176\n",
            "Epoch:  177\n",
            "Epoch:  178\n",
            "Epoch:  179\n",
            "Epoch:  180\n",
            "Epoch:  181\n",
            "Epoch:  182\n",
            "Epoch:  183\n",
            "Epoch:  184\n",
            "Epoch:  185\n",
            "Iteration: 8500. Loss: 0.17831802368164062. Accuracy: 85.48223350253807\n",
            "Epoch:  186\n",
            "Epoch:  187\n",
            "Epoch:  188\n",
            "Epoch:  189\n",
            "Epoch:  190\n",
            "Epoch:  191\n",
            "Epoch:  192\n",
            "Epoch:  193\n",
            "Epoch:  194\n",
            "Epoch:  195\n",
            "Epoch:  196\n",
            "Iteration: 9000. Loss: 0.09835110604763031. Accuracy: 86.01522842639594\n",
            "Epoch:  197\n",
            "Epoch:  198\n",
            "Epoch:  199\n",
            "Epoch:  200\n",
            "Epoch:  201\n",
            "Epoch:  202\n",
            "Epoch:  203\n",
            "Epoch:  204\n",
            "Epoch:  205\n",
            "Epoch:  206\n",
            "Epoch:  207\n",
            "Iteration: 9500. Loss: 0.10190308839082718. Accuracy: 86.19289340101523\n",
            "Epoch:  208\n",
            "Epoch:  209\n",
            "Epoch:  210\n",
            "Epoch:  211\n",
            "Epoch:  212\n",
            "Epoch:  213\n",
            "Epoch:  214\n",
            "Epoch:  215\n",
            "Epoch:  216\n",
            "Epoch:  217\n",
            "Epoch:  218\n",
            "Iteration: 10000. Loss: 0.08469339460134506. Accuracy: 86.97969543147208\n",
            "Epoch:  219\n",
            "Epoch:  220\n",
            "Epoch:  221\n",
            "Epoch:  222\n",
            "Epoch:  223\n",
            "Epoch:  224\n",
            "Epoch:  225\n",
            "Epoch:  226\n",
            "Epoch:  227\n",
            "Epoch:  228\n",
            "Epoch:  229\n",
            "Iteration: 10500. Loss: 0.11785721778869629. Accuracy: 86.04060913705584\n",
            "Epoch:  230\n",
            "Epoch:  231\n",
            "Epoch:  232\n",
            "Epoch:  233\n",
            "Epoch:  234\n",
            "Epoch:  235\n",
            "Epoch:  236\n",
            "Epoch:  237\n",
            "Epoch:  238\n",
            "Epoch:  239\n",
            "Epoch:  240\n",
            "Iteration: 11000. Loss: 0.15357400476932526. Accuracy: 85.96446700507614\n",
            "Epoch:  241\n",
            "Epoch:  242\n",
            "Epoch:  243\n",
            "Epoch:  244\n",
            "Epoch:  245\n",
            "Epoch:  246\n",
            "Epoch:  247\n",
            "Epoch:  248\n",
            "Epoch:  249\n",
            "Epoch:  250\n",
            "Iteration: 11500. Loss: 0.8374305367469788. Accuracy: 87.89340101522842\n",
            "Epoch:  251\n",
            "Epoch:  252\n",
            "Epoch:  253\n",
            "Epoch:  254\n",
            "Epoch:  255\n",
            "Epoch:  256\n",
            "Epoch:  257\n",
            "Epoch:  258\n",
            "Epoch:  259\n",
            "Epoch:  260\n",
            "Epoch:  261\n",
            "Iteration: 12000. Loss: 0.08934945613145828. Accuracy: 88.4771573604061\n",
            "Epoch:  262\n",
            "Epoch:  263\n",
            "Epoch:  264\n",
            "Epoch:  265\n",
            "Epoch:  266\n",
            "Epoch:  267\n",
            "Epoch:  268\n",
            "Epoch:  269\n",
            "Epoch:  270\n",
            "Epoch:  271\n",
            "Epoch:  272\n",
            "Iteration: 12500. Loss: 0.059991564601659775. Accuracy: 88.55329949238579\n",
            "Epoch:  273\n",
            "Epoch:  274\n",
            "Epoch:  275\n",
            "Epoch:  276\n",
            "Epoch:  277\n",
            "Epoch:  278\n",
            "Epoch:  279\n",
            "Epoch:  280\n",
            "Epoch:  281\n",
            "Epoch:  282\n",
            "Epoch:  283\n",
            "Iteration: 13000. Loss: 0.08881527185440063. Accuracy: 88.4517766497462\n",
            "Epoch:  284\n",
            "Epoch:  285\n",
            "Epoch:  286\n",
            "Epoch:  287\n",
            "Epoch:  288\n",
            "Epoch:  289\n",
            "Epoch:  290\n",
            "Epoch:  291\n",
            "Epoch:  292\n",
            "Epoch:  293\n",
            "Epoch:  294\n",
            "Iteration: 13500. Loss: 0.06875539571046829. Accuracy: 87.66497461928934\n",
            "Epoch:  295\n",
            "Epoch:  296\n",
            "Epoch:  297\n",
            "Epoch:  298\n",
            "Epoch:  299\n",
            "Epoch:  300\n",
            "Epoch:  301\n",
            "Epoch:  302\n",
            "Epoch:  303\n",
            "Epoch:  304\n",
            "Epoch:  305\n",
            "Iteration: 14000. Loss: 0.08037525415420532. Accuracy: 87.74111675126903\n",
            "Epoch:  306\n",
            "Epoch:  307\n",
            "Epoch:  308\n",
            "Epoch:  309\n",
            "Epoch:  310\n",
            "Epoch:  311\n",
            "Epoch:  312\n",
            "Epoch:  313\n",
            "Epoch:  314\n",
            "Epoch:  315\n",
            "Epoch:  316\n",
            "Iteration: 14500. Loss: 0.03640779107809067. Accuracy: 87.99492385786802\n",
            "Epoch:  317\n",
            "Epoch:  318\n",
            "Epoch:  319\n",
            "Epoch:  320\n",
            "Epoch:  321\n",
            "Epoch:  322\n",
            "Epoch:  323\n",
            "Epoch:  324\n",
            "Epoch:  325\n",
            "Epoch:  326\n",
            "Epoch:  327\n",
            "Iteration: 15000. Loss: 0.02747102454304695. Accuracy: 88.65482233502539\n",
            "Epoch:  328\n",
            "Epoch:  329\n",
            "Epoch:  330\n",
            "Epoch:  331\n",
            "Epoch:  332\n",
            "Epoch:  333\n",
            "Epoch:  334\n",
            "Epoch:  335\n",
            "Epoch:  336\n",
            "Epoch:  337\n",
            "Iteration: 15500. Loss: 0.07288433611392975. Accuracy: 88.22335025380711\n",
            "Epoch:  338\n",
            "Epoch:  339\n",
            "Epoch:  340\n",
            "Epoch:  341\n",
            "Epoch:  342\n",
            "Epoch:  343\n",
            "Epoch:  344\n",
            "Epoch:  345\n",
            "Epoch:  346\n",
            "Epoch:  347\n",
            "Epoch:  348\n",
            "Iteration: 16000. Loss: 0.021865112707018852. Accuracy: 89.06091370558376\n",
            "Epoch:  349\n",
            "Epoch:  350\n",
            "Epoch:  351\n",
            "Epoch:  352\n",
            "Epoch:  353\n",
            "Epoch:  354\n",
            "Epoch:  355\n"
          ]
        }
      ]
    },
    {
      "cell_type": "code",
      "metadata": {
        "id": "y0kun_Ret64w"
      },
      "source": [
        "#settings 1\n",
        "save_model = True\n",
        "\n",
        "if save_model is True:\n",
        "    # Saves only parameters\n",
        "    # wights & biases\n",
        "    torch.save(model.state_dict(), path + 'assignment2_model.pkl') "
      ],
      "execution_count": null,
      "outputs": []
    },
    {
      "cell_type": "code",
      "metadata": {
        "colab": {
          "base_uri": "https://localhost:8080/",
          "height": 316
        },
        "id": "Qj_WDxm4t8Uc",
        "outputId": "42a4a609-faa5-4b2d-bd4d-4d58801b3fac"
      },
      "source": [
        "import matplotlib\n",
        "import matplotlib.pyplot as plt\n",
        "\n",
        "print (iteration_loss)\n",
        "plt.plot(iteration_loss)\n",
        "plt.ylabel('Cross Entropy Loss')\n",
        "plt.xlabel('Iteration (in every 500)')\n",
        "plt.show()"
      ],
      "execution_count": null,
      "outputs": [
        {
          "output_type": "stream",
          "name": "stdout",
          "text": [
            "[1.595639944076538, 1.5508804321289062, 0.9442182183265686, 0.800396203994751, 0.7425801157951355, 0.5644039511680603, 0.4363650977611542, 0.5090310573577881, 0.40122079849243164, 0.3894078731536865, 0.29310184717178345, 0.27039575576782227, 0.28251132369041443, 0.2703360319137573, 0.19153642654418945, 0.1642908751964569, 0.17831802368164062, 0.09835110604763031, 0.10190308839082718, 0.08469339460134506, 0.11785721778869629, 0.15357400476932526, 0.8374305367469788, 0.08934945613145828, 0.059991564601659775, 0.08881527185440063, 0.06875539571046829, 0.08037525415420532, 0.03640779107809067, 0.02747102454304695, 0.07288433611392975, 0.021865112707018852]\n"
          ]
        },
        {
          "output_type": "display_data",
          "data": {
            "image/png": "[encoded data removed]",
            "text/plain": [
              "<Figure size 432x288 with 1 Axes>"
            ]
          },
          "metadata": {
            "needs_background": "light"
          }
        }
      ]
    },
    {
      "cell_type": "code",
      "metadata": {
        "colab": {
          "base_uri": "https://localhost:8080/"
        },
        "id": "pSHdBpbWt-s-",
        "outputId": "bd037753-41c5-4b1f-b671-555690654fd9"
      },
      "source": [
        "print(\"Final Model Loss: \",iteration_loss[-1])\n",
        "print (\"Final Model Accuracy: \",accuracy)"
      ],
      "execution_count": null,
      "outputs": [
        {
          "output_type": "stream",
          "name": "stdout",
          "text": [
            "Final Model Loss:  0.021865112707018852\n",
            "Final Model Accuracy:  89.06091370558376\n"
          ]
        }
      ]
    },
    {
      "cell_type": "code",
      "metadata": {
        "colab": {
          "base_uri": "https://localhost:8080/",
          "height": 92
        },
        "id": "Dekn1pAsuBrm",
        "outputId": "66aa9350-f62b-4523-e7b1-6817c444f819"
      },
      "source": [
        "import matplotlib\n",
        "import matplotlib.pyplot as plt\n",
        "for images, labels in test_loader:\n",
        "    break\n",
        "    \n",
        "fig, ax = plt.subplots(1, 7)\n",
        "for i in range(7):\n",
        "    ax[i].imshow(images[i].view(28,28), cmap=matplotlib.cm.binary)\n",
        "\n",
        "plt.show()"
      ],
      "execution_count": null,
      "outputs": [
        {
          "output_type": "display_data",
          "data": {
            "image/png": "[encoded data removed]",
            "text/plain": [
              "<Figure size 432x288 with 7 Axes>"
            ]
          },
          "metadata": {
            "needs_background": "light"
          }
        }
      ]
    }
  ]
}